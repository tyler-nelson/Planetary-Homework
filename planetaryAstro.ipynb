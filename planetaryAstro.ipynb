{
 "cells": [
  {
   "cell_type": "markdown",
   "metadata": {},
   "source": [
    " Using your programming language of choice, write a\n",
    "function that computes the expected relative astrometry, absolute astrometry, and radial velocities\n",
    "of a two-body system. That is, it should take the time, the orbital elements, and some way of\n",
    "describing the object masses (either both masses or the mass ratio) as input. It should return: 1)\n",
    "the on-sky projected separation and position angle of B with respect to A, 2) the on-sky projected\n",
    "separation and position angle of both objects with respect to the center-of-mass position, and 3)\n",
    "the RVs of both objects with respect to the center-of-mass RV.\n",
    "Note that by returning all of these numbers, your new routine can flexibly serve as the core\n",
    "of an orbit fitter for a wide range of data types: RVs, direct imaging (such as from AO imaging),\n",
    "photocenter motion (such as from Gaia or Hipparcos), and transits. If you can think of something\n",
    "else that sounds useful to return, feel free to implement that too.\n",
    "You can adopt the appropriate equations from the Exoplanets textbook, but note that you need\n",
    "to implement a solver for the transcendental equation. You don’t need to consider light travel times,\n",
    "but at least keep in mind that we’re getting into a realm of data precision where that could matter.\n",
    "(I actually had to do this for my recent paper on the young eclipsing binary UScoCTIO 5. It turns\n",
    "out that Kepler data really is that good."
   ]
  },
  {
   "cell_type": "code",
   "execution_count": 7,
   "metadata": {
    "collapsed": false
   },
   "outputs": [],
   "source": [
    "from math import *\n",
    "import random as rand\n",
    "import matplotlib.pyplot as plt\n",
    "#from __future__ import division #uncomment if running in python 2.x"
   ]
  },
  {
   "cell_type": "code",
   "execution_count": 54,
   "metadata": {
    "collapsed": false
   },
   "outputs": [],
   "source": [
    "#orbital elements a,e,i,W,w,t0\n",
    "G = 6.67e-11\n",
    "auToMeters = 149597870700\n",
    "\n",
    "def newtonsMethod(f, fprime, guess, tolerance=1e-4):\n",
    "    curr, prev = guess, 2**31 -1\n",
    "    while abs(curr - prev) > tolerance:\n",
    "        prev, curr = curr,  curr - f(curr)/fprime(curr)\n",
    "    return curr\n",
    "\n",
    "\n",
    "def orbits(elementList, t, M1=0, M2=0, m1Overm2=0, VzBC=0):\n",
    "    if len(elementList) != 6:\n",
    "        raise(Exception(\"Expected 6 orbital elements in element list\\n\"))\n",
    "    a, e, i, W, w, t0 = elementList\n",
    "    i, W, w = i*pi/180, W*pi/180, w*pi/180 #convert to radians\n",
    "    if not(M1 or M2 or m1Overm2):\n",
    "        raise(Exception(\"At least one of the following must be nonzero M1, M2, m1Overm2\\n\"))\n",
    "    if M1 or M2:\n",
    "        T = 2*pi*a*sqrt(a/(G*(M1+M2)))\n",
    "        M2frac = M2/(M1+M2)\n",
    "    else:\n",
    "        T = 2*pi*a*sqrt(a/(G*(1+m1Overm2)))\n",
    "        M2frac = 1/(m1Overm2 + 1)\n",
    "    n = 2*pi/T\n",
    "    #print(T/86400)\n",
    "    M = n*(t-t0)*86400\n",
    "    g = lambda E: E - e*sin(E) - M\n",
    "    gPrime = lambda E: 1 - e*cos(E)\n",
    "    E0 = newtonsMethod(g, gPrime, M)\n",
    "    r = a*(1-e*cos(E0))\n",
    "    f = 2*atan2(sqrt(1+e)*sin(E0/2),sqrt(1-e)*cos(E0/2))\n",
    "    theta = (f + w + W)*180/pi%360\n",
    "    Xr = cos(W)*cos(w+f) - sin(W)*sin(w+f)*cos(i)\n",
    "    Yr = sin(W)*cos(w+f) + cos(W)*sin(w+f)*cos(i)\n",
    "    Zr = sin(w+f)*sin(i)\n",
    "    Zr2 = Zr*Zr\n",
    "    a1 = M2frac*a\n",
    "    a2 = a - a1\n",
    "    r1, r2 = a1*(1 - e*cos(E0)), a2*(1-e*cos(E0))\n",
    "    k = n*a*sin(i)/sqrt(1-e*e)\n",
    "    K1 = M2frac*k\n",
    "    K2 = k - K1\n",
    "    vr1 = K1*(cos(w+f)+e*cos(w)) + VzBC\n",
    "    vr2 = K2*(cos(w+f)+e*cos(w+pi)) + VzBC\n",
    "    r1/= auToMeters\n",
    "    r2/= auToMeters\n",
    "    f*=180/pi\n",
    "    return [r/auToMeters*sqrt(1-Zr2), f], [r1*sqrt(1-Zr2),f, r1*Xr, r1*Yr, r1*Zr],\\\n",
    "[r2*sqrt(1-Zr2),(f+180)%360, r2*Xr, r2*Yr, r2*Zr], [-vr1/1000,vr2/1000]\n",
    "\n",
    "\n",
    "    "
   ]
  },
  {
   "cell_type": "markdown",
   "metadata": {
    "collapsed": false
   },
   "source": [
    "The transiting planet HD 80606 b is notable for\n",
    "being a transiting planet on a very extreme orbit, with eccentricity of e = 0.934. Go out into the\n",
    "literature and find the orbital elements for this planet, and use your orbit prediction code to predict\n",
    "the RV curve over the course of this semester. You should turn in a plot of stellar RV versus time\n",
    "spanning August-December. If you were going to ask for telescope time on the McDonald 2.7m in\n",
    "order to measure the extreme maximum and minimum, which nights would you want?\n"
   ]
  },
  {
   "cell_type": "code",
   "execution_count": 98,
   "metadata": {
    "collapsed": false
   },
   "outputs": [],
   "source": [
    "#auToMeters = 8.5*60*3e8\n",
    "MSun = 1.988e30\n",
    "MJupiter = 1.898e27\n",
    "\n",
    "# ****************** ALL PLOTS ARE FOR HD 80606 b ********************\n",
    "system = [0.449*auToMeters,0.93369, 89.32, 90,300.53,2454424.852]\n",
    "l1,l2,l3,l4 = orbits(system, 2457966.5,M1=0.97*MSun,M2=3.94*MJupiter)\n"
   ]
  },
  {
   "cell_type": "code",
   "execution_count": 93,
   "metadata": {
    "collapsed": false
   },
   "outputs": [
    {
     "name": "stdout",
     "output_type": "stream",
     "text": [
      "12.993240270288322\n"
     ]
    }
   ],
   "source": [
    "P = 2*pi*sqrt((0.449*auToMeters)**3/(G*(0.97*MSun+3.94*MJupiter)))/86400\n",
    "Rsun = 695700000\n",
    "Ttot = P/pi*asin(Rsun/(0.449*auToMeters)*sqrt((1+0.1)**2 - 0.75**2)/sin(89.32*pi/180))*\\\n",
    "sqrt(1-0.93369**2)/(1+0.93369*sin(300.5*pi/180))\n",
    "print(Ttot*24)\n"
   ]
  },
  {
   "cell_type": "code",
   "execution_count": 56,
   "metadata": {
    "collapsed": false
   },
   "outputs": [],
   "source": [
    "rv1 = [0]*152\n",
    "rv2 = [0]*152\n",
    "r = [0]*152\n",
    "f = [0]*152\n",
    "t = range(152)\n",
    "for i in t:\n",
    "    l1,l2,l3,l4 = orbits(system,(2457966.5+i),M1=0.97*MSun,M2=3.94*MJupiter)\n",
    "    r[i] = l1[0]\n",
    "    rv1[i], rv2[i] = l4\n",
    "    f[i] = l1[1]*180/pi\n",
    "fig = plt.figure()\n",
    "sub1 = fig.add_subplot(211)\n",
    "sub2 = fig.add_subplot(212, sharex=sub1)\n",
    "sub1.plot(t,rv1)\n",
    "sub2.plot(t,rv2)\n",
    "fig.subplots_adjust(bottom=0.2)\n",
    "newax = sub1.twiny()\n",
    "sub1.set_xlim(0,152)\n",
    "l = [\"August\",\"September\", \"October\", \"November\",\"December\"]\n",
    "llocations = [0, 31, 61, 92, 122]\n",
    "newax.set_frame_on(True)\n",
    "newax.patch.set_visible(False)\n",
    "newax.set_xlim(sub1.get_xlim())\n",
    "newax.xaxis.set_ticks_position('bottom')\n",
    "newax.xaxis.set_label_position('bottom')\n",
    "newax.spines['bottom'].set_position(('outward', 40))\n",
    "newax.set_xticks(llocations)\n",
    "newax.set_xticklabels(l)\n",
    "sub1.set_ylabel(\"HD 80606 RV $\\\\frac{km}{s}$\")\n",
    "sub2.set_ylabel(\"HD 80606 b RV $\\\\frac{km}{s}$ \")\n",
    "sub2.set_xlabel(\"JD - 2457966.5 (D)\")\n",
    "sub1.set_title(\"HD 80606 and HD 80606 b RV vs Time\")\n",
    "\n",
    "plt.tight_layout()\n",
    "plt.show()"
   ]
  },
  {
   "cell_type": "code",
   "execution_count": 15,
   "metadata": {
    "collapsed": false
   },
   "outputs": [],
   "source": [
    "plt.plot(t,f)\n",
    "#plt.xlabel()\n",
    "plt.show(\"JD - 2457966.5 (D)\")"
   ]
  },
  {
   "cell_type": "code",
   "execution_count": 57,
   "metadata": {
    "collapsed": false
   },
   "outputs": [],
   "source": [
    "def quickAndDirtyMinSearch(y,dt,tol=5e-3):#these must be greater then length 5, ideally 7\n",
    "    if(dt<=0):\n",
    "        raise(Exception(\"time interval must be nonnegative\"))\n",
    "    i = 2\n",
    "    end = len(y)-2\n",
    "    minList = []\n",
    "    dt2 = dt+dt\n",
    "    dts = dt2*dt2\n",
    "    yp = (y[3]-y[1])/dt2\n",
    "    ypp = (y[4] - 2*y[2] + y[0])/(dts)\n",
    "    while i < end:\n",
    "        sp = (y[i+1] - y[i-1])/dt2\n",
    "        spp = (y[i+2] - 2*y[i] + y[i-2])/(dts)\n",
    "        if(abs(sp-yp) < tol):\n",
    "            if(spp * ypp < 0 and ypp < 0):\n",
    "                minList.append(i)\n",
    "        yp, ypp = sp, spp\n",
    "        i+=1\n",
    "    return minList\n",
    "\n",
    "mins = quickAndDirtyMinSearch(r,1)"
   ]
  },
  {
   "cell_type": "code",
   "execution_count": 58,
   "metadata": {
    "collapsed": false
   },
   "outputs": [],
   "source": [
    "\n",
    "fig = plt.figure()\n",
    "\n",
    "sub1 = fig.add_subplot(111)\n",
    "sub1.plot(t,r)\n",
    "\n",
    "for i in mins:\n",
    "    sub1.plot(t[i],r[i],'h',label=\"t = {0}\".format(t[i]))\n",
    "fig.subplots_adjust(bottom=0.2)\n",
    "newax = sub1.twiny()\n",
    "sub1.set_xlim(0,152)\n",
    "l = [\"August\",\"September\", \"October\", \"November\",\"December\"]\n",
    "llocations = [0, 31, 61, 92, 122]\n",
    "newax.set_frame_on(True)\n",
    "newax.patch.set_visible(False)\n",
    "newax.set_xlim(sub1.get_xlim())\n",
    "newax.xaxis.set_ticks_position('bottom')\n",
    "newax.xaxis.set_label_position('bottom')\n",
    "newax.spines['bottom'].set_position(('outward', 40))\n",
    "newax.set_xticks(llocations)\n",
    "newax.set_xticklabels(l)\n",
    "sub1.set_xlabel(\"JD - 2457966.5 (JD)\")\n",
    "sub1.set_ylabel(\"r$_{sky}$ (AU)\")\n",
    "sub1.set_title(\"r$_{sky}$ vs JD\")\n",
    "sub1.legend()\n",
    "plt.show()"
   ]
  },
  {
   "cell_type": "code",
   "execution_count": 60,
   "metadata": {
    "collapsed": false
   },
   "outputs": [],
   "source": [
    "numMins = len(mins)\n",
    "days = 15\n",
    "segments = 5e3\n",
    "betterMeasures = [[0 for i in range(days*int(segments))] for i in range(numMins)]\n",
    "count = 0\n",
    "tRanges = [[mins[i]-days/2+j/segments for j in range(days*int(segments))] for i in range(numMins)]\n",
    "while count < numMins:\n",
    "    for i in range(int(segments)*days):\n",
    "        l1,l2,l3,l4 = orbits(system,\\\n",
    "                     (2457966.5+mins[count]-days/2+i/segments),M1=0.97*MSun,M2=3.94*MJupiter)\n",
    "        betterMeasures[count][i] = l1[0]\n",
    "    count+=1"
   ]
  },
  {
   "cell_type": "code",
   "execution_count": 61,
   "metadata": {
    "collapsed": true
   },
   "outputs": [],
   "source": [
    "minsImproved1 = quickAndDirtyMinSearch(betterMeasures[0],segments, tol=1e-13)\n",
    "minsImproved2 = quickAndDirtyMinSearch(betterMeasures[1],segments, tol=1e-13)\n",
    "minsImproved3 = quickAndDirtyMinSearch(betterMeasures[2],segments, tol=1e-13)"
   ]
  },
  {
   "cell_type": "code",
   "execution_count": 126,
   "metadata": {
    "collapsed": false
   },
   "outputs": [],
   "source": [
    "fig = plt.figure()\n",
    "fig.subplots_adjust(bottom=0.2)\n",
    "sub1 = fig.add_subplot(111)\n",
    "sub1.plot(t,r)\n",
    "sub1.set_xlim(0,152)\n",
    "sub1.plot(tRanges[0],betterMeasures[0])\n",
    "sub1.plot(tRanges[1],betterMeasures[1])\n",
    "\n",
    "l = [\"August\",\"September\", \"October\", \"November\",\"December\"]\n",
    "llocations = [0, 31, 61, 92, 122]\n",
    "newax = sub1.twiny()\n",
    "# for i in minsImproved1:\n",
    "#     sub1.plot(tRanges[0][i], betterMeasures[0][i],'h')\n",
    "# for i in minsImproved2:\n",
    "#     sub1.plot(tRanges[1][i], betterMeasures[1][i],'h')\n",
    "# for i in minsImproved2:\n",
    "#     sub1.plot(tRanges[2][i], betterMeasures[2][i],'h')\n",
    "newax.set_frame_on(True)\n",
    "newax.patch.set_visible(False)\n",
    "newax.set_xlim(sub1.get_xlim())\n",
    "newax.xaxis.set_ticks_position('bottom')\n",
    "newax.xaxis.set_label_position('bottom')\n",
    "newax.spines['bottom'].set_position(('outward', 40))\n",
    "newax.set_xticks(llocations)\n",
    "newax.set_xticklabels(l)\n",
    "sub1.set_xlabel(\"JD - 2457966.5 (JD)\")\n",
    "sub1.set_ylabel(\"r$_{sky}$ (AU)\")\n",
    "sub1.set_title(\"r$_{sky}$ vs JD\")\n",
    "sub1.plot([0,152],[0.00455,0.00455],'m-',label=\"Radius of HD 80606\")\n",
    "sub1.legend()\n",
    "plt.tight_layout()\n",
    "plt.show()"
   ]
  },
  {
   "cell_type": "code",
   "execution_count": 1,
   "metadata": {
    "collapsed": false
   },
   "outputs": [
    {
     "name": "stdout",
     "output_type": "stream",
     "text": [
      "8.250557758848\n"
     ]
    }
   ],
   "source": [
    "#calculating G mag prior to finding it in the gaia tycho data\n",
    "a = -0.0257\n",
    "b = -0.0924\n",
    "c = -0.1623\n",
    "d = 0.0090\n",
    "sigma = 0.05\n",
    "C2 = 9.788 - 8.6\n",
    "G = a + b*C2 + c*C2**2 + d*C2**3 + 8.6\n",
    "print(G)"
   ]
  },
  {
   "cell_type": "code",
   "execution_count": 6,
   "metadata": {
    "collapsed": true
   },
   "outputs": [],
   "source": [
    "ra = 140.6569379644\n",
    "de = 50.6037750175\n",
    "obe = 23.43699\n",
    "rar = ra*pi/180\n",
    "der = de*pi/180\n",
    "ober = obe*pi/180\n",
    "lamb = atan2(sin(rar)*cos(ober) + tan(der)*sin(ober),cos(rar))\n",
    "beta = asin(sin(der)*cos(ober) - cos(der)*sin(ober)*sin(rar))\n"
   ]
  },
  {
   "cell_type": "code",
   "execution_count": 34,
   "metadata": {
    "collapsed": true
   },
   "outputs": [],
   "source": [
    "\n",
    "#https://en.wikipedia.org/wiki/Position_of_the_Sun#Ecliptic_coordinates\n",
    "def sunEclipticLongitude(d):\n",
    "    n = d - 2451545\n",
    "    L = 280.46 + 0.9856474*n\n",
    "    g = 357.528 + 0.9856003*n\n",
    "    while L < 0:\n",
    "        L+=360\n",
    "    while L > 360:\n",
    "        L-=360\n",
    "    while g < 0:\n",
    "        g+=360\n",
    "    while g > 360:\n",
    "        g-=360\n",
    "    return L + 1.915*sin(g*pi/180) + 0.02*sin(2*g*pi/180)\n",
    "\n",
    "def parallaxContribution(day, ra, dec, dist):\n",
    "    II = 1/dist\n",
    "    ls = sunEclipticLongitude(day)\n",
    "    dlambda = II*sin(ls-ra)/cos(dec)\n",
    "    dbeta = II*cos(ls-ra)*sin(beta)\n",
    "    return dlambda, dbeta\n",
    "    \n",
    "def properMotionCon(raRate, daRate, time):#expected in degree(or some equi)/yr\n",
    "    time/=365.25\n",
    "    return raRate*time, daRate*time"
   ]
  },
  {
   "cell_type": "code",
   "execution_count": 103,
   "metadata": {
    "collapsed": false
   },
   "outputs": [],
   "source": [
    "#assuming Gaia started observing 8/1/2017\n",
    "totalDays = 365.25*5\n",
    "epochs = sorted([rand.random()*totalDays for i in range(100)])\n",
    "\n",
    "\n",
    "#airmax, x = dec, y = ra\n",
    "#airmass = 2 limit"
   ]
  },
  {
   "cell_type": "code",
   "execution_count": 111,
   "metadata": {
    "collapsed": false
   },
   "outputs": [
    {
     "name": "stdout",
     "output_type": "stream",
     "text": [
      "140.65416666666667\n",
      "50.603611111111114\n"
     ]
    }
   ],
   "source": [
    "print(RA_0)\n",
    "print(DEC_0)"
   ]
  },
  {
   "cell_type": "code",
   "execution_count": 127,
   "metadata": {
    "collapsed": false
   },
   "outputs": [],
   "source": [
    "#q4.1\n",
    "ra1List = [0]*100\n",
    "dec1List = [0]*100\n",
    "counter = 0\n",
    "#positions on 8/1 from the airmass calculator \n",
    "RA_0 = (9+22/60 + 37/3600)*360/24\n",
    "DEC_0 = 50 + 36/60 + 13/3600\n",
    "d2arc = 3600\n",
    "while counter < 100:\n",
    "    l1, l2, l3, l4 = orbits(system, 2457966.5+epochs[counter],M1=0.97*MSun,M2=3.94*MJupiter)\n",
    "    o1, o2 = RA_0 + l2[3]*4.8481e-6, DEC_0 + l2[2]*4.8481e-6\n",
    "    ra1List[counter], dec1List[counter] = o1 + rand.gauss(0.32,1)/3600e3, o2 + rand.gauss(0.32,1)/3600e3\n",
    "    counter+=1\n",
    "\n",
    "for i in range(100):\n",
    "    ra1List[i] = (ra1List[i]-RA_0)*3600e3\n",
    "    dec1List[i] = (dec1List[i] - DEC_0)*3600e3\n",
    "fig = plt.figure()\n",
    "sub1 = fig.add_subplot(311)\n",
    "sub1.plot(epochs, ra1List,'o')\n",
    "sub1.set_ylabel(\"RA - 140.654$^o$ (mas)\")\n",
    "sub1.set_xlabel(\"JD - 2457966.5 (JD)\")\n",
    "sub2 = fig.add_subplot(312)\n",
    "sub2.set_ylabel(\"DEC - 50.603$^o$ (mas)\")\n",
    "sub2.set_xlabel(\"JD - 2457966.5 (JD)\")\n",
    "sub2.plot(epochs, dec1List,'o')\n",
    "sub3 = fig.add_subplot(313)\n",
    "sub3.plot(ra1List, dec1List, 'o')\n",
    "sub3.set_xlabel(\"RA - 140.654$^o$(mas)\")\n",
    "sub3.set_ylabel(\"DEC - 50.603$^o$(mas)\")\n",
    "plt.tight_layout()\n",
    "plt.show()"
   ]
  },
  {
   "cell_type": "code",
   "execution_count": 128,
   "metadata": {
    "collapsed": false
   },
   "outputs": [],
   "source": [
    "#lambda is ra, beta is dec\n",
    "#q4.2\n",
    "ra2List = [0]*100\n",
    "dec2List = [0]*100\n",
    "counter = 0\n",
    "while counter < 100:\n",
    "    l1, l2, l3, l4 = orbits(system, 2457966.5+epochs[counter],M1=0.97*MSun,M2=3.94*MJupiter)\n",
    "    o1, o2 = RA_0 + l2[3]*4.8481e-6/3600e3, DEC_0 + l2[2]*4.8481e-6/3600e3\n",
    "    a1, a2  = parallaxContribution(2457966.5+epochs[counter], o1, o2, 58.38)\n",
    "    ra2List[counter], dec2List[counter] = o1+a1/3600+rand.gauss(0.32,1)/3600e3, o2+a2/3600+rand.gauss(0.32,1)/3600e3\n",
    "    counter+=1\n",
    "for i in range(100):\n",
    "    ra2List[i] = (ra2List[i]-RA_0)*3600e3\n",
    "    dec2List[i] = (dec2List[i] - DEC_0)*3600e3\n",
    "fig = plt.figure()\n",
    "sub1 = fig.add_subplot(311)\n",
    "sub1.plot(epochs, ra2List,'o')\n",
    "sub1.set_ylabel(\"RA - 140.654$^o$ (mas)\")\n",
    "sub1.set_xlabel(\"JD - 2457966.5 (JD)\")\n",
    "sub2 = fig.add_subplot(312)\n",
    "\n",
    "sub2.set_ylabel(\"DEC - 50.603$^o$ (mas)\")\n",
    "sub2.set_xlabel(\"JD - 2457966.5 (JD)\")\n",
    "sub2.plot(epochs, dec2List,'o')\n",
    "sub3 = fig.add_subplot(313)\n",
    "sub3.plot(ra2List, dec2List,'o')\n",
    "sub3.set_xlabel(\"RA - 140.654$^o$ (mas)\")\n",
    "sub3.set_ylabel(\"DEC - 50.603$^o$ (mas)\")\n",
    "plt.tight_layout()\n",
    "plt.show() "
   ]
  },
  {
   "cell_type": "code",
   "execution_count": 129,
   "metadata": {
    "collapsed": true
   },
   "outputs": [],
   "source": [
    "#lambda is ra, beta is dec\n",
    "#q4.3\n",
    "ra3List = [0]*100\n",
    "dec3List = [0]*100\n",
    "counter = 0\n",
    "\n",
    "while counter < 100:\n",
    "    l1, l2, l3, l4 = orbits(system, 2457966.5+epochs[counter],M1=0.97*MSun,M2=3.94*MJupiter)\n",
    "    o1, o2 = RA_0 + l2[3]*4.8481e-6/3600e3, DEC_0 + l2[2]*4.8481e-6/3600e3\n",
    "    a1, a2  = parallaxContribution(2457966.5+epochs[counter], o1, o2, 58.38)\n",
    "    b1, b2 = properMotionCon(56.01, 10.643, 2457966.5+epochs[counter]-2451544.5)\n",
    "    ra3List[counter]  = o1+a1/3600+rand.gauss(0.32,1)/3600e3 + b1/3600e3\n",
    "    dec3List[counter] = o2+a2/3600+rand.gauss(0.32,1)/3600e3 + b2/3600e3\n",
    "    counter+=1\n",
    "    \n",
    "for i in range(100):\n",
    "    ra3List[i] = (ra3List[i]-RA_0)*3600e3\n",
    "    dec3List[i] = (dec3List[i] - DEC_0)*3600e3\n",
    "fig = plt.figure()\n",
    "sub1 = fig.add_subplot(311)\n",
    "sub1.plot(epochs, ra3List,'o')\n",
    "sub1.set_ylabel(\"RA - 140.654$^o$ (mas)\")\n",
    "sub2 = fig.add_subplot(312)\n",
    "sub2.plot(epochs, dec3List,'o')\n",
    "sub2.set_ylabel(\"DEC - 50.603$^o$ (mas)\")\n",
    "sub1.set_xlabel(\"JD - 2457966.5 (JD)\")\n",
    "sub2.set_xlabel(\"JD - 2457966.5 (JD)\")\n",
    "sub3 = fig.add_subplot(313)\n",
    "sub3.plot(ra3List, dec3List,'o')\n",
    "sub3.set_xlabel(\"RA - 140.654$^o$ (mas)\")\n",
    "sub3.set_ylabel(\"DEC - 50.603$^o$ (mas)\")\n",
    "plt.tight_layout()\n",
    "plt.show() "
   ]
  },
  {
   "cell_type": "markdown",
   "metadata": {
    "collapsed": false
   },
   "source": [
    "#HIP id: 45982\n",
    "#epoch 2015.0, I interpreted this as 2015? but this might be wrong\n",
    "ra = 140.6569379644\n",
    "err = 0.155 #mas\n",
    "de = 50.6037750175\n",
    "eerd = 0.297 #mas\n",
    "para = 15.33\n",
    "errp - 0.26\n",
    "pmRA = 56.01 #mas/yr\n",
    "errpm = 0.404\n",
    "pmDe = 10.643\n",
    "distance = 190.41 yl\n",
    "right acsension = phi\n",
    "declination = theta(but measured from the plane not the pole)\n",
    "\n",
    "\n",
    "lambda is the star we're observing's ecliptic longitude\n",
    "lambda_s is the ecliptic longitude of the sun\n",
    "Beta is a shift in the ecliptic lattitude\n",
    "PI = a_earth/r(distance to star) in radians\n",
    "fromula:\n",
    "delta lambda* cos(Beta) = PI*sin(lambda_s - lambda)\n",
    "delta Beta = PI*cos(lambda_s -lambda)sin(Beta)\n",
    "\n",
    "ecliptic obquity = 23.4 deg"
   ]
  },
  {
   "cell_type": "code",
   "execution_count": null,
   "metadata": {
    "collapsed": true
   },
   "outputs": [],
   "source": [
    "def eulersMethod(fprime, t0, y0, h, tEnd):\n",
    "    tRange = [t0 + (tEnd - t0)*h*i for i in range(int(1/h))]\n",
    "    returnList = [0]*len(tRange)\n",
    "    returnList[0] = y0\n",
    "    for i in range(1,len(tRange)):\n",
    "        yi, ti = returnList[i-1], tRange[i-1]\n",
    "        returnList[i] = yi + h/2*(fprime(ti,yi) + \\\n",
    "                    fprime(tRange[i], yi+h*fprime(ti,yi)))\n",
    "    return tRange, returnList"
   ]
  }
 ],
 "metadata": {
  "kernelspec": {
   "display_name": "Python 3",
   "language": "python",
   "name": "python3"
  },
  "language_info": {
   "codemirror_mode": {
    "name": "ipython",
    "version": 3
   },
   "file_extension": ".py",
   "mimetype": "text/x-python",
   "name": "python",
   "nbconvert_exporter": "python",
   "pygments_lexer": "ipython3",
   "version": "3.5.1"
  }
 },
 "nbformat": 4,
 "nbformat_minor": 0
}
