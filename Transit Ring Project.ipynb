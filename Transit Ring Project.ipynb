{
 "cells": [
  {
   "cell_type": "code",
   "execution_count": 112,
   "metadata": {
    "collapsed": true
   },
   "outputs": [],
   "source": [
    "import numpy as np\n",
    "import mpmath\n",
    "from scipy import linalg\n",
    "import math as m\n",
    "import matplotlib.pyplot as plt\n",
    "import scipy as sci\n",
    "from numpy import pi\n",
    "from shapely.geometry.polygon import LinearRing, Polygon\n",
    "import shapely as shape\n",
    "plt.rcParams[\"figure.figsize\"] = (10,6)"
   ]
  },
  {
   "cell_type": "code",
   "execution_count": 2,
   "metadata": {
    "collapsed": true
   },
   "outputs": [],
   "source": [
    "#https://math.stackexchange.com/questions/163920/how-to-find-an-ellipse-given-five-points\n",
    "#https://en.wikipedia.org/wiki/Matrix_representation_of_conic_sections\n"
   ]
  },
  {
   "cell_type": "code",
   "execution_count": 3,
   "metadata": {
    "collapsed": true
   },
   "outputs": [],
   "source": [
    "def Rx(theta):\n",
    "    return np.array([[1,0,0],[0,np.cos(theta),-np.sin(theta)],[0,np.sin(theta),np.cos(theta)]])\n",
    "def Ry(theta):\n",
    "    return np.array([[np.cos(theta),0,np.sin(theta)],[0,1,0],[-np.sin(theta),0,np.cos(theta)]])\n",
    "def Rz(theta):\n",
    "    return np.array([\n",
    "        [np.cos(theta),-np.sin(theta),0],[np.sin(theta),np.cos(theta),0],[0,0,1]])\n",
    "\n",
    "def Ru(theta, u):\n",
    "    x,y,z = u\n",
    "    #print(u)\n",
    "    if abs(x*x + y*y + z*z - 1) > 1e-4:\n",
    "        raise(Exception(\"u must have a magnitude of 1\"))\n",
    "    return np.array([[np.cos(theta) + x*x*(1-np.cos(theta)), x*y*(1-np.cos(theta))-z*np.sin(theta), x*z*(1-np.cos(theta))+y*np.sin(theta)],\n",
    "                    [y*x*(1-np.cos(theta))+z*np.sin(theta), np.cos(theta)+y*y*(1-np.cos(theta)), y*z*(1-np.cos(theta))-x*np.sin(theta)],\n",
    "                    [z*x*(1-np.cos(theta))-y*np.sin(theta), z*y*(1-np.cos(theta))+x*np.sin(theta), np.cos(theta)+z*z*(1-np.cos(theta))]])\n",
    "\n",
    "def quadratic(a,b,c):\n",
    "    return (-b+(b*b-4*a*c)**(1/2))/(2*a), (-b-(b*b-4*a*c)**(1/2))/(2*a)\n",
    "\n",
    "\n",
    "\n",
    "class Disk:\n",
    "    def __init__(self, xc, yc, points):#radius could be included in another constructor\n",
    "        self.pointList = [0]*len(points)\n",
    "        for i in range(len(points)):\n",
    "            self.pointList[i] = points[i]\n",
    "        self.pointList = np.asarray(self.pointList)\n",
    "        #self.pointList[:,0]+=xc\n",
    "        #self.pointList[:,1]+=yc\n",
    "        self.xc = xc\n",
    "        self.yc = yc\n",
    "        self.i = 90\n",
    "        self.omega = 0\n",
    "        self.abcdef = Disk.determine_abcdef(self)#quadratic coefficients\n",
    "        self.matrixForm = np.array([[self.abcdef[0], self.abcdef[1]/2, self.abcdef[3]/2],\n",
    "                                    [self.abcdef[1]/2, self.abcdef[2], self.abcdef[4]/2],\n",
    "                                    [self.abcdef[3]/2, self.abcdef[4]/2, self.abcdef[5]]])\n",
    "        #self.center=np.array([xc,yc,0])\n",
    "        self.a, self.b = 0,0\n",
    "        self.canonicalForm()\n",
    "        self.alpha = 0#this shouldn't just be set to 0 it should be calculated\n",
    "        self.xu = (1,0,0)\n",
    "        self.yu = (0,1,0)\n",
    "        self.zu = (0,0,1)\n",
    "        self.area = self.a*self.b*pi\n",
    "    \n",
    "    @classmethod\n",
    "    def circle(cls, xc, yc, radius):\n",
    "        return cls(xc,yc, [[radius,0,0],[radius/2**(1/2),radius/2**(1/2),0],[0,radius,0],[-radius,0,0],[0,-radius,0]])\n",
    "        \n",
    "        \n",
    "    def rotate(self,direction, amount):\n",
    "        amount*=pi/180\n",
    "        l = len(self.pointList)\n",
    "        if direction == \"x\":\n",
    "            for i in range(l):\n",
    "                self.pointList[i] = np.dot(Ru(amount,self.xu), self.pointList[i])#-self.center)\n",
    "            self.yu = np.dot(Ru(amount,self.xu),self.yu)\n",
    "            self.zu = np.dot(Ru(amount,self.xu),self.zu)\n",
    "            self.i+= amount*180/pi\n",
    "        elif direction == \"y\":\n",
    "            for i in range(l):\n",
    "                self.pointList[i] = np.dot(Ru(amount,self.yu),self.pointList[i])\n",
    "            self.xu = np.dot(Ru(amount,self.yu),self.xu)\n",
    "            self.zu = np.dot(Ru(amount,self.yu),self.zu)\n",
    "            self.omega+=amount*180/pi\n",
    "        elif direction == \"z\":\n",
    "            for i in range(l):\n",
    "                self.pointList[i] = np.dot(Ru(amount,self.zu),self.pointList[i])\n",
    "            self.xu = np.dot(Ru(amount,self.zu),self.xu)\n",
    "            self.yu = np.dot(Ru(amount,self.zu),self.yu)\n",
    "        else:\n",
    "            raise(Exception(\"unknown direction, please enter x,y, or z\\n\"))\n",
    "    def rotate2(self, amount, unitVector):\n",
    "        amount*=pi/180\n",
    "        p = self.pointList\n",
    "        for i in range(len(p)):\n",
    "            self.pointList[i] = np.dot(Ru(amount, unitVector), p[i])\n",
    "        \n",
    "    def updates(self):\n",
    "        self.abcdef = self.determine_abcdef()\n",
    "        A,B,C,D,E,F = self.abcdef\n",
    "        self.matrixForm = np.array([[A, B/2, D/2],\n",
    "                                   [B/2, C, E/2],\n",
    "                                   [D/2, E/2, F]])\n",
    "        self.detAngRot()\n",
    "        self.updateCenters()\n",
    "        self.canonicalForm()\n",
    "    \n",
    "    def updatePosition(self, vx, vy, t):\n",
    "        self.xc += vx*t\n",
    "        self.yc += vy*t\n",
    "        for i in range(len(self.pointList)):\n",
    "            self.pointList[i,0] += vx*t\n",
    "            self.pointList[i,1] += vy*t\n",
    "#-------------------------------------------------------\n",
    "    \n",
    "        \n",
    "    def detAngRot(self):\n",
    "        A,B,C,D,E,F = self.abcdef\n",
    "        #print(A,B,C,D,E,F)\n",
    "        if abs(B)<1e-5 and A < C:\n",
    "            self.alpha = 0\n",
    "        elif abs(B)<1e-5 and A > C:\n",
    "            self.alpha = pi/2\n",
    "        elif A < C:\n",
    "            self.alpha= 1/2*(np.arctan(B/(A-C)))\n",
    "        elif A > C:\n",
    "            self.alpha= pi/2 + 1/2*(np.arctan(B/(A-C)))\n",
    "\n",
    "    def determine_abcdef(self):\n",
    "        mat = [0]*5\n",
    "        for i in range(5):\n",
    "            x,y,z = self.pointList[i]\n",
    "            mat[i] = [x*x, x*y, y*y, x, y, 1]\n",
    "        matrix = np.asarray(mat)\n",
    "        coeff = [0]*6\n",
    "        for i in range(6):\n",
    "            coeff[i] = np.linalg.det(np.delete(matrix,i,1))\n",
    "        return np.asarray(coeff)\n",
    "    \n",
    "    def canonicalForm(self):\n",
    "        S = np.linalg.det(self.matrixForm)\n",
    "        A,B,C = self.abcdef[:3]\n",
    "        l1, l2 = quadratic(1, -(A+C), A*C - (B/2)**2)\n",
    "        u, v = m.sqrt(abs(S/(l1**2*l2))), m.sqrt(abs(S/(l1*l2**2)))\n",
    "        self.a = max(u,v)\n",
    "        self.b = min(u,v)\n",
    "            \n",
    "    def updateCenters(self, x=0, y=0):\n",
    "        A,B,C,D,E,F = self.abcdef\n",
    "        self.xc += (B*E-2*C*D)/(4*A*C-B**2) + x\n",
    "        self.yc += (D*B-2*A*E)/(4*A*C-B**2) + y\n",
    "        \n",
    "class RoundThing:\n",
    "    def __init__(self, xc,yc, radius, flux=0):\n",
    "        self.xc = xc\n",
    "        self.yc = yc\n",
    "        self.radius = radius\n",
    "        self.flux = flux\n",
    "        self.a = radius\n",
    "        self.b = radius\n",
    "        self.pointList = [[radius, 0,0], [radius/2**(1/2),radius/2**(1/2),0],[0,radius,0],[-radius,0,0],[0,-radius,0]]\n",
    "        self.pointList = np.asarray(self.pointList)\n",
    "    def updatePosition(self, vx, vy, t):\n",
    "        self.xc += vx*t\n",
    "        self.yc += vy*t\n",
    "        for i in range(len(self.pointList)):\n",
    "            self.pointList[i,0] += vx*t\n",
    "            self.pointList[i,1] += vy*t\n",
    "\n",
    "class Ring:\n",
    "    def __init__(self, innerDisk, outerDisk, absorption=lambda l:1):\n",
    "        self.i = innerDisk\n",
    "        self.o = outerDisk\n",
    "        self.xc = (innerDisk.xc + outerDisk.xc)/2\n",
    "        self.yc = (innerDisk.yc + outerDisk.yc)/2\n",
    "        self.absorptionFunction = absorption\n",
    "    def rotate(self, direction, amount):\n",
    "        self.i.rotate(direction, amount)\n",
    "        self.o.rotate(direction, amount)\n",
    "    \n",
    "    def rotate2(self, amount, unitVector):\n",
    "        self.i.rotate2(amount, unitVector)\n",
    "        self.o.rotate2(amount, unitVector)\n",
    "    def updatePosition(self, vx, vy, t):\n",
    "        self.i.updatePosition(vx,vy,t)\n",
    "        self.o.updatePosition(vx,vy,t)\n",
    "        \n",
    "    def updates(self):\n",
    "        self.i.updates()\n",
    "        self.o.updates()\n",
    "    \n",
    "\n",
    "    \n",
    "class StarLD:\n",
    "    def __init__(self, xc, yc, radius, I0, CoffList=[],layers=1,scaling='u'):\n",
    "        self.xc = xc\n",
    "        self.yc = yc\n",
    "        self.radius = radius\n",
    "        self.a = radius\n",
    "        self.b = radius\n",
    "        self.layers= layers\n",
    "        self.I0 = I0\n",
    "        self.pointList = StarLD.pConstruct(xc,yc,radius)\n",
    "        self.aList = CoffList\n",
    "        self.dList = [0]*layers\n",
    "        self.dList[-1] = Disk.circle(xc,yc,radius)\n",
    "        dr = radius/layers\n",
    "        for i in range(layers-1):\n",
    "            self.dList[i] = Disk.circle(xc,yc,dr*(i+1))\n",
    "    \n",
    "    def pConstruct(xc,yc,radius):\n",
    "        return np.array([[radius+xc, yc,0], [radius/2**(1/2)+xc,radius/2**(1/2)+yc,0],\n",
    "                          [xc,radius+yc,0],[-radius+xc,yc,0],[xc,-radius+yc,0]])\n",
    "    def updatePosition(self, vx, vy, t):\n",
    "        self.xc += vx*t\n",
    "        self.yc += vy*t\n",
    "        for i in range(len(self.pointList)):\n",
    "            self.pointList[i,0] += vx*t\n",
    "            self.pointList[i,1] += vy*t\n",
    "    def LD(self, theta, omega):\n",
    "        rSum = 1\n",
    "        aList = self.aList\n",
    "        l = len(aList)\n",
    "        for i in range(1,l):\n",
    "            rSum+=aList[i]*(1-(1-(np.sin(theta)/np.sin(omega))**2)**(1/2))**i\n",
    "        return rSum"
   ]
  },
  {
   "cell_type": "code",
   "execution_count": 28,
   "metadata": {
    "collapsed": true
   },
   "outputs": [],
   "source": [
    "def calculateAngles(p0,pointList):\n",
    "    x,y = p0\n",
    "    l = len(pointList)\n",
    "    returnList = [0]*l\n",
    "    for i in range(l):\n",
    "        returnList[i] = np.arctan2(pointList[i][1]-y,pointList[i][0]-x)\n",
    "    return returnList\n",
    "\n",
    "def area(o1, o2):\n",
    "    ellipses = [(o1.xc,o1.yc,o1.a,o1.b, o1.alpha),#np.arctan2(o1.pointList[0,1]-o1.yc,o1.pointList[0,0]-o1.xc)),\n",
    "               (o2.xc,o2.yc,o2.a,o2.b, o2.alpha)]#np.arctan2(o2.pointList[0,1]-o2.yc,o2.pointList[0,0]-o2.xc))]\n",
    "    a,b = ellipse_polyline(ellipses)\n",
    "\n",
    "    e1 = Polygon(a)\n",
    "    e2 = Polygon(b)\n",
    "    \n",
    "    a1 = e1.intersection(e2).area\n",
    "    return a1\n",
    "    #if a1:\n",
    "    #    return a1\n",
    "    #return e2.intersection(e1).area\n",
    "\n",
    "def ellipse_polyline(ellipses, n=100):\n",
    "    t = np.linspace(0, 2*pi, n)\n",
    "    st = np.sin(t)\n",
    "    ct = np.cos(t)\n",
    "    result = []\n",
    "    for x0, y0, a, b, angle in ellipses:\n",
    "        sa = np.sin(angle)\n",
    "        ca = np.cos(angle)\n",
    "        p = np.empty((n, 2))\n",
    "        p[:, 0] = x0 + a * ca * ct - b * sa * st\n",
    "        p[:, 1] = y0 + a * sa * ct + b * ca * st\n",
    "        result.append(p)\n",
    "    return result    \n"
   ]
  },
  {
   "cell_type": "code",
   "execution_count": 36,
   "metadata": {},
   "outputs": [
    {
     "data": {
      "image/png": "[encoded data removed]",
      "text/plain": [
       "<matplotlib.figure.Figure at 0x7fc8ad093908>"
      ]
     },
     "metadata": {},
     "output_type": "display_data"
    }
   ],
   "source": [
    "#multi rings\n",
    "innerNumber = 20\n",
    "outerNumber = 40\n",
    "xOffSet = -200\n",
    "yOffSet = -30\n",
    "xRot = 80\n",
    "yRot = 40\n",
    "InnerDisk = Disk.circle(xOffSet,yOffSet, innerNumber)\n",
    "OuterDisk = Disk.circle(xOffSet,yOffSet, outerNumber)\n",
    "\n",
    "\n",
    "\n",
    "Star = StarLD(0,0,50,1, CoffList=[-0.47,-0.23], layers=5)#RoundThing(0,0, 10, 1)\n",
    "R1 = Ring(InnerDisk, OuterDisk)\n",
    "R2 = Ring(Disk.circle(xOffSet,yOffSet, innerNumber+outerNumber+5), Disk.circle(xOffSet,yOffSet, 2*outerNumber+40))\n",
    "dist = 10000\n",
    "\n",
    "RList = [R1,R2]\n",
    "for R in RList:\n",
    "    R.rotate(\"x\", xRot)\n",
    "    R.rotate(\"y\", yRot)\n",
    "    R.updates()#we can't see z since we're projecting on the sky\n",
    "\n",
    "\n",
    "start = 1\n",
    "end = 300\n",
    "points = 1000\n",
    "\n",
    "dt = (end-start)/points\n",
    "\n",
    "vx = lambda t : 1#0.1\n",
    "vy = lambda t: 0\n",
    "\n",
    "#need a local distance so that we can scale the amount of coverage\n",
    "output = [0]*points\n",
    "\n",
    "ringArray = [[0]*points for i in range(2*len(RList))]\n",
    "\n",
    "\n",
    "w = Star.radius/dist\n",
    "\n",
    "\n",
    "h = Star.layers\n",
    "\n",
    "for j in range(points):\n",
    "    for apples in range(len(RList)):\n",
    "        R = RList[apples]\n",
    "        output[j]+= Star.I0*Star.LD(w/(2*h),w)*(-area(Star.dList[0],R.o)+area(Star.dList[0],R.i))\n",
    "        for i1 in range(1,h):\n",
    "            output[j]+= Star.I0*Star.LD((i1+1)*w/(2*h),w)*\\\n",
    "            (-(area(Star.dList[i1],R.o)-area(Star.dList[i1],R.i)-area(Star.dList[i1-1],R.o)+area(Star.dList[i1-1],R.i)))\n",
    "\n",
    "        ringArray[2*apples][j] = (R.i.xc, R.i.yc, R.i.a, R.i.b, R.i.alpha)\n",
    "        ringArray[2*apples+1][j]= (R.o.xc, R.o.yc, R.o.a, R.o.b, R.o.alpha)\n",
    "        #ringListi[j] = (R.i.xc, R.i.yc, R.i.a, R.i.b, R.i.alpha)\n",
    "        #ringListo[j] = (R.o.xc, R.o.yc, R.o.a, R.o.b, R.o.alpha)\n",
    "\n",
    "        R.updatePosition(vx(j*dt),vy(j*dt),dt)\n",
    "    output[j]/=pi*Star.radius**2\n",
    "    output[j]+=1\n",
    "    Planet.updatePosition(vx(j*dt),vy(j*dt),dt)\n",
    "\n",
    "fig = plt.figure()\n",
    "sub1 = fig.add_subplot(121)\n",
    "sub1.plot(np.asarray(range(points))*dt, output)\n",
    "sub1.set_ylabel(\"normalized flux\",fontsize=14)\n",
    "sub1.set_xlabel(\"time\",fontsize=14)\n",
    "#fig.imsave(\"someName\")\n",
    "sub2 = fig.add_subplot(122)\n",
    "sub2.plot()\n",
    "\n",
    "ellipses = [ringArray[i][0] for i in range(len(ringArray))]\n",
    "#print(ellipses)\n",
    "graphingList = ellipse_polyline(ellipses)\n",
    "i = 0\n",
    "while i < len(graphingList):\n",
    "    sub2.plot(graphingList[i][:,0], graphingList[i][:,1],'b')\n",
    "    sub2.plot(graphingList[i+1][:,0], graphingList[i+1][:,1],'g',label=\"Ring\")\n",
    "    i+=2\n",
    "\n",
    "#self.dList[i] = Disk.circle(xc,yc,dr*(i+1))\n",
    "# starList = [0]*Star.layers\n",
    "# for i in range(Star.layers):\n",
    "#     disk = Star.dList[i]\n",
    "#     starList[i] = (Star.xc, Star.yc, disk.a, disk.b, 0)\n",
    "\n",
    "s1 = ellipse_polyline([(Star.xc, Star.yc, Star.a, Star.b, 0)])[0]\n",
    "p1 = ellipse_polyline([(xOffSet,yOffSet, Planet.a, Planet.b, 0)])[0]\n",
    "# s1 = ellipse_polyline(starList)\n",
    "# for i in s1:\n",
    "#     sub2.plot(i[:,0],i[:,1],label=\"Star\")\n",
    "sub2.plot(s1[:,0],s1[:,1],'m',label='Star')\n",
    "sub2.plot(p1[:,0],p1[:,1],'r',label='Planet')\n",
    "sub2.set_title(\"Initial Geometry for $R_x$ = %.1f$^o$,$R_y$ = %.1f$^o$\"%(xRot,yRot), fontsize=16)\n",
    "plt.axis('equal')\n",
    "sub1.set_title(\"LC for $R_x$ = %.1f$^o$,$R_y$ = %.1f$^o$\"%(xRot,yRot),fontsize=16)\n",
    "plt.grid()\n",
    "plt.tight_layout()\n",
    "#plt.savefig(\"/home/tyler/Desktop/Planets/ring28040.png\", dpi=400)\n",
    "plt.legend()\n",
    "plt.show()\n",
    "\n",
    "#vary Xamount, vary Yamount, vary Ring radius, vary ring width, vary planet inclination"
   ]
  },
  {
   "cell_type": "code",
   "execution_count": null,
   "metadata": {
    "collapsed": true
   },
   "outputs": [],
   "source": [
    "\n"
   ]
  },
  {
   "cell_type": "code",
   "execution_count": null,
   "metadata": {},
   "outputs": [],
   "source": []
  },
  {
   "cell_type": "code",
   "execution_count": null,
   "metadata": {},
   "outputs": [],
   "source": []
  },
  {
   "cell_type": "code",
   "execution_count": null,
   "metadata": {},
   "outputs": [],
   "source": []
  },
  {
   "cell_type": "code",
   "execution_count": null,
   "metadata": {},
   "outputs": [],
   "source": []
  },
  {
   "cell_type": "code",
   "execution_count": null,
   "metadata": {
    "collapsed": true
   },
   "outputs": [],
   "source": [
    "\n",
    "        \n",
    "        "
   ]
  },
  {
   "cell_type": "code",
   "execution_count": null,
   "metadata": {
    "collapsed": true
   },
   "outputs": [],
   "source": []
  },
  {
   "cell_type": "code",
   "execution_count": null,
   "metadata": {
    "collapsed": true
   },
   "outputs": [],
   "source": []
  },
  {
   "cell_type": "code",
   "execution_count": null,
   "metadata": {
    "collapsed": true
   },
   "outputs": [],
   "source": []
  },
  {
   "cell_type": "code",
   "execution_count": null,
   "metadata": {},
   "outputs": [],
   "source": []
  },
  {
   "cell_type": "code",
   "execution_count": null,
   "metadata": {
    "collapsed": true
   },
   "outputs": [],
   "source": []
  },
  {
   "cell_type": "code",
   "execution_count": null,
   "metadata": {
    "collapsed": true
   },
   "outputs": [],
   "source": []
  },
  {
   "cell_type": "code",
   "execution_count": null,
   "metadata": {},
   "outputs": [],
   "source": []
  },
  {
   "cell_type": "code",
   "execution_count": null,
   "metadata": {},
   "outputs": [],
   "source": []
  },
  {
   "cell_type": "code",
   "execution_count": null,
   "metadata": {},
   "outputs": [],
   "source": []
  },
  {
   "cell_type": "code",
   "execution_count": null,
   "metadata": {},
   "outputs": [],
   "source": []
  },
  {
   "cell_type": "code",
   "execution_count": null,
   "metadata": {
    "collapsed": true
   },
   "outputs": [],
   "source": []
  },
  {
   "cell_type": "code",
   "execution_count": null,
   "metadata": {
    "collapsed": true
   },
   "outputs": [],
   "source": []
  },
  {
   "cell_type": "code",
   "execution_count": null,
   "metadata": {},
   "outputs": [],
   "source": []
  },
  {
   "cell_type": "code",
   "execution_count": null,
   "metadata": {
    "collapsed": true
   },
   "outputs": [],
   "source": []
  },
  {
   "cell_type": "code",
   "execution_count": null,
   "metadata": {},
   "outputs": [],
   "source": []
  },
  {
   "cell_type": "code",
   "execution_count": null,
   "metadata": {
    "collapsed": true
   },
   "outputs": [],
   "source": []
  },
  {
   "cell_type": "code",
   "execution_count": null,
   "metadata": {},
   "outputs": [],
   "source": []
  },
  {
   "cell_type": "code",
   "execution_count": null,
   "metadata": {},
   "outputs": [],
   "source": []
  },
  {
   "cell_type": "code",
   "execution_count": null,
   "metadata": {},
   "outputs": [],
   "source": []
  },
  {
   "cell_type": "code",
   "execution_count": null,
   "metadata": {},
   "outputs": [],
   "source": []
  },
  {
   "cell_type": "code",
   "execution_count": null,
   "metadata": {},
   "outputs": [],
   "source": []
  },
  {
   "cell_type": "code",
   "execution_count": null,
   "metadata": {
    "collapsed": true
   },
   "outputs": [],
   "source": []
  },
  {
   "cell_type": "code",
   "execution_count": null,
   "metadata": {},
   "outputs": [],
   "source": []
  },
  {
   "cell_type": "code",
   "execution_count": null,
   "metadata": {},
   "outputs": [],
   "source": []
  },
  {
   "cell_type": "code",
   "execution_count": null,
   "metadata": {},
   "outputs": [],
   "source": []
  },
  {
   "cell_type": "code",
   "execution_count": null,
   "metadata": {},
   "outputs": [],
   "source": []
  },
  {
   "cell_type": "code",
   "execution_count": null,
   "metadata": {},
   "outputs": [],
   "source": []
  },
  {
   "cell_type": "code",
   "execution_count": null,
   "metadata": {},
   "outputs": [],
   "source": []
  },
  {
   "cell_type": "code",
   "execution_count": null,
   "metadata": {},
   "outputs": [],
   "source": []
  },
  {
   "cell_type": "code",
   "execution_count": null,
   "metadata": {},
   "outputs": [],
   "source": []
  },
  {
   "cell_type": "code",
   "execution_count": null,
   "metadata": {
    "collapsed": true
   },
   "outputs": [],
   "source": []
  }
 ],
 "metadata": {
  "kernelspec": {
   "display_name": "Python [default]",
   "language": "python",
   "name": "python3"
  },
  "language_info": {
   "codemirror_mode": {
    "name": "ipython",
    "version": 3
   },
   "file_extension": ".py",
   "mimetype": "text/x-python",
   "name": "python",
   "nbconvert_exporter": "python",
   "pygments_lexer": "ipython3",
   "version": "3.5.3"
  }
 },
 "nbformat": 4,
 "nbformat_minor": 1
}
