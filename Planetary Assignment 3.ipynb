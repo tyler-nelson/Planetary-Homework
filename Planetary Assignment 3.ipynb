{
 "cells": [
  {
   "cell_type": "code",
   "execution_count": 1,
   "metadata": {
    "collapsed": false
   },
   "outputs": [],
   "source": [
    "#Planetary Astrophysics Homework 3\n",
    "#Tyler Nelson\n",
    "\n",
    "import numpy as np\n",
    "import scipy as sci\n",
    "import math\n",
    "import matplotlib.pyplot as plt\n",
    "from functools import partial\n",
    "from numpy import pi\n",
    "import mpmath\n",
    "from scipy import interpolate\n",
    "from scipy import integrate\n",
    "mpmath.mp.prec = 50"
   ]
  },
  {
   "cell_type": "code",
   "execution_count": 2,
   "metadata": {
    "collapsed": false
   },
   "outputs": [],
   "source": [
    "h = 6.6e-27\n",
    "c = 3e10\n",
    "kB = 1.4e-16\n",
    "sigSB = 5.7e-5\n",
    "aSB = 7.6e-15\n",
    "AU = 1.5e13\n",
    "rSun = 7e10\n",
    "LSun = 3.8e33\n",
    "mSun = 2e33\n",
    "G = 6.7e-8\n",
    "TSunEff = (LSun/(4*pi*rSun**2*sigSB))**(1/4)\n",
    "def trapInt(f, a, b, dx):\n",
    "    return dx/2*(f(a)+f(b)+ 2*sum(np.vectorize(f)(np.linspace(a+dx,b-dx,int((b-a)/dx)))))\n",
    "def bb_nu(T, nu):\n",
    "    return (2*h*nu**3/c**2)/(mpmath.exp(h*nu/(kB*T))-1)\n",
    "def bb_l(T, l):\n",
    "    return (2*h*c**2/l**5)/(mpmath.exp(h*c/(l*kB*T))-1)\n"
   ]
  },
  {
   "cell_type": "code",
   "execution_count": 3,
   "metadata": {
    "collapsed": false
   },
   "outputs": [],
   "source": [
    "def bbSpecL2(T, r, spacingInfo, scale=0):\n",
    "    l = np.linspace(*spacingInfo)\n",
    "    if scale == 0:\n",
    "        return l, (2*pi*r)**2*np.vectorize(partial(bb_l, T))(l)\n",
    "    return l, (pi*r/scale)**2*np.vectorize(partial(bb_l, T))(l)\n",
    "\n",
    "def bbSpecNu2(T, r, spacingInfo, scale=0):\n",
    "    l = np.linspace(*spacingInfo)\n",
    "    if scale == 0:\n",
    "        return l, (2*pi*r)**2*np.vectorize(partial(bb_nu, T))(l)\n",
    "    return l, (pi*r/scale)**2*np.vectorize(partial(bb_nu, T))(l)"
   ]
  },
  {
   "cell_type": "code",
   "execution_count": null,
   "metadata": {
    "collapsed": false
   },
   "outputs": [],
   "source": [
    "\n",
    "\n"
   ]
  },
  {
   "cell_type": "code",
   "execution_count": 4,
   "metadata": {
    "collapsed": false
   },
   "outputs": [],
   "source": [
    "tStar = 8590\n",
    "rStar = 1.9*rSun\n",
    "dist = 10*AU\n",
    "mStar = 1.92*mSun"
   ]
  },
  {
   "cell_type": "code",
   "execution_count": 37,
   "metadata": {
    "collapsed": false
   },
   "outputs": [],
   "source": [
    "fig = plt.figure()\n",
    "sub1 = fig.add_subplot(211)\n",
    "sub2 = fig.add_subplot(212)\n",
    "x, y = bbSpecNu2(tStar, rStar,[3e13, 3e17, 1e5], scale =dist)\n",
    "sub1.plot(c/x*1e4,y*1e23,'r', label=\"10 AU\")\n",
    "sub1.set_xlabel(\"$\\\\lambda (\\\\mu m)$\")\n",
    "sub1.set_ylabel(\"$f_{\\\\nu} (Jy)$\")\n",
    "sub1.set_title(\"Flux Calibrated Blackbody Specs for Fomalhaut\")\n",
    "x, y = bbSpecNu2(tStar, rStar, [3e13, 3e17, 1e5],scale=130*AU)\n",
    "sub2.plot(c/x*1e4,y*1e23, label=\"130 AU\")\n",
    "sub2.set_xlabel(\"$\\\\lambda (\\\\mu m)$\")\n",
    "sub2.set_ylabel(\"$f_{\\\\nu} (Jy)$\")\n",
    "plt.tight_layout()\n",
    "sub1.legend()\n",
    "sub2.legend()\n",
    "plt.show()"
   ]
  },
  {
   "cell_type": "code",
   "execution_count": null,
   "metadata": {
    "collapsed": true
   },
   "outputs": [],
   "source": []
  },
  {
   "cell_type": "code",
   "execution_count": 5,
   "metadata": {
    "collapsed": false
   },
   "outputs": [],
   "source": [
    "#C:\\Users\\Tyler\\Desktop\\suvSil_21\n",
    "file = \"suvSil_21\"\n",
    "path = r\"C:\\Users\\Tyler\\Desktop\\{0}\\{0}\".format(file)\n",
    "\n",
    "t1 = np.genfromtxt(path,delimiter=\" \", skip_header=2448, usecols=(0,1),max_rows=(2689-2448))\n",
    "vsmall = interpolate.interp1d(c/(t1[:,0]*1e-4),t1[:,1], kind=\"cubic\")\n",
    "t2 = np.genfromtxt(path,delimiter=\" \", skip_header=3668, usecols=(0,1),max_rows=(3909-3668))\n",
    "small = interpolate.interp1d(c/(t2[:,0]*1e-4),t2[:,1], kind=\"cubic\")\n",
    "t3 = np.genfromtxt(path,delimiter=\" \", skip_header=4888, usecols=(0,1),max_rows=(5129-4888))\n",
    "medium = interpolate.interp1d(c/(t3[:,0]*1e-4),t3[:,1], kind=\"cubic\")"
   ]
  },
  {
   "cell_type": "code",
   "execution_count": 393,
   "metadata": {
    "collapsed": false
   },
   "outputs": [],
   "source": [
    "\n",
    "#janksy are in frequency not wavelength \n"
   ]
  },
  {
   "cell_type": "code",
   "execution_count": 6,
   "metadata": {
    "collapsed": false
   },
   "outputs": [],
   "source": [
    "def powerAbs(Rg, Rs, a, Tstar, bbFunc, QFunc, start, stop, step):\n",
    "    #return (Rg*Rs/a)**2*pi**2*trapInt(lambda l: bbFunc(Tstar,l)*QFunc(l),start,stop,step)\n",
    "    return (Rg*Rs*pi/a)**2*integrate.quad(lambda x : bbFunc(Tstar, x)*QFunc(x), start,stop)[0]\n",
    "def sb(R, L):\n",
    "    return (L/(4*pi*R**2*sigSB))**(1/4)"
   ]
  },
  {
   "cell_type": "code",
   "execution_count": 7,
   "metadata": {
    "collapsed": false
   },
   "outputs": [],
   "source": [
    "\n",
    "sizeList = [0.1e-4,1e-4,10e-4,1e-1]\n",
    "functionList = [vsmall, small, medium, lambda x : 1]\n",
    "\n",
    "\n",
    "def glueFunction(sizeLst, rStr, dst, tStr, bbFunc, bbFuncSED, QFuncList, integrationInfo, sedInfo):\n",
    "    length = len(sizeLst)\n",
    "    rList1 = [0]*length #temp\n",
    "    rList2 = [0]*length #sed\n",
    "    PinList = [0]*length #p abs\n",
    "    PoutList = [0]*length #p emm\n",
    "    i = 0 #bbSpecL2(T, r, distInfo, scale=0)\n",
    "    while i < length-1:\n",
    "        PinList[i] = powerAbs(sizeLst[i], rStr, dst, tStr, bbFunc, QFuncList[i], *integrationInfo)\n",
    "        rList1[i] = sb(sizeLst[i], PinList[i])\n",
    "        rList2[i] = bbFuncSED(rList1[i], sizeLst[i], sedInfo)[1]\n",
    "        PoutList[i] = (2*pi*sizeList[i])**2*integrate.quad(lambda l : bbFunc(rList1[i], l)*QFuncList[i](l),*integrationInfo[:2])[0]\n",
    "        i+=1\n",
    "    PinList[-1] = powerAbs(sizeLst[-1], rStr, dst, tStr, bbFunc, QFuncList[-1], *integrationInfo)\n",
    "    rList1[-1] = sb(sizeLst[-1], PinList[-1])\n",
    "    PoutList[-1] = (2*pi*sizeList[-1])**2*integrate.quad(lambda l : bbFunc(rList1[-1], l)*QFuncList[-1](l),*integrationInfo[:2])[0]\n",
    "    horizontalRange, rList2[-1] = bbFuncSED(rList1[-1], sizeLst[-1],sedInfo)\n",
    "    return rList1, rList2, horizontalRange, PinList, PoutList"
   ]
  },
  {
   "cell_type": "code",
   "execution_count": 8,
   "metadata": {
    "collapsed": true
   },
   "outputs": [],
   "source": [
    "def sedModFunc(sedList, collectingRadius, dist):#also assuming sed not in jankys\n",
    "    returnList = [0]*len(sedList)\n",
    "    for i in range(len(sedList)):\n",
    "        returnList[i] = sedList[i]*1e23*(collectingRadius/(2*dist))**2\n",
    "    return returnList"
   ]
  },
  {
   "cell_type": "code",
   "execution_count": null,
   "metadata": {
    "collapsed": false
   },
   "outputs": [],
   "source": []
  },
  {
   "cell_type": "code",
   "execution_count": 9,
   "metadata": {
    "collapsed": false
   },
   "outputs": [],
   "source": [
    "def sedPlotter(sed,xList, tList, sizeList, dist, fig, dCount=[], mode=\"nu\"):\n",
    "    l = len(sed)\n",
    "    count = 0\n",
    "    multiplier = [1]*l\n",
    "    if(len(dCount)):\n",
    "        multiplier = dCount\n",
    "    while count < l:\n",
    "        sub1 = fig.add_subplot(l*100+10+count+1)\n",
    "        if mode == \"nu\":\n",
    "            sub1.plot(c/xList*1e4, sed[count]*multiplier[count], label=\"%0.0f K\"%tList[count])\n",
    "            \n",
    "        else:\n",
    "            sub1.plot(xList*1e4, sed[count]*multiplier[count], label = \"%0.0f K\"%tList[count])\n",
    "        sub1.set_title(\"{0} micron grains at {1} AU\".format(sizeList[count]*1e4, dist/AU))\n",
    "        sub1.set_xlabel(\"$\\\\lambda(\\\\mu m)$\")\n",
    "        sub1.set_ylabel(\"$f_{\\\\nu}(Jy)$\")\n",
    "        plt.legend()\n",
    "        count+=1\n",
    "    return fig\n",
    "\n",
    "\n",
    "def dustCounterForMicrons(xList, wavelength, flux_jy, sedlist):\n",
    "    l = len(sedlist)\n",
    "    dCount = [0]*l\n",
    "    i, j = 0, 0\n",
    "    while xList[i] < wavelength:\n",
    "        i+=1\n",
    "    while j < l:\n",
    "        dCount[j] = flux_jy/sedlist[j][i]\n",
    "        j+=1\n",
    "    return dCount"
   ]
  },
  {
   "cell_type": "code",
   "execution_count": 10,
   "metadata": {
    "collapsed": false
   },
   "outputs": [
    {
     "name": "stderr",
     "output_type": "stream",
     "text": [
      "C:\\Anaconda2\\envs\\python3\\lib\\site-packages\\scipy\\integrate\\quadpack.py:357: IntegrationWarning: The maximum number of subdivisions (50) has been achieved.\n",
      "  If increasing the limit yields no improvement it is advised to analyze \n",
      "  the integrand in order to determine the difficulties.  If the position of a \n",
      "  local difficulty can be determined (singularity, discontinuity) one will \n",
      "  probably gain from splitting up the interval and calling the integrator \n",
      "  on the subranges.  Perhaps a special-purpose integrator should be used.\n",
      "  warnings.warn(msg, IntegrationWarning)\n"
     ]
    }
   ],
   "source": [
    "#pulling out all the calculations\n",
    "\n",
    "TList1, SEDList1, xList1, Pin1, Pout1 = glueFunction(sizeList, rStar, dist, tStar, bb_nu, bbSpecNu2, functionList, [3e12,3e16,3e12], [3e12, 3e16, 1e5])\n",
    "TList2, SEDList2, xList2, Pin2, Pout2 = glueFunction(sizeList, rStar, 130*AU, tStar, bb_nu, bbSpecNu2, functionList, [3e11,3e16,3e12], [3e11, 3e16, 1e5])"
   ]
  },
  {
   "cell_type": "code",
   "execution_count": null,
   "metadata": {
    "collapsed": false
   },
   "outputs": [],
   "source": []
  },
  {
   "cell_type": "code",
   "execution_count": 11,
   "metadata": {
    "collapsed": true
   },
   "outputs": [],
   "source": [
    "SEDList1_m = sedModFunc(SEDList1, 0.5e2, 7.7*3.08e18)\n",
    "SEDList2_m = sedModFunc(SEDList2, 0.5e2, 7.7*3.08e18)\n"
   ]
  },
  {
   "cell_type": "code",
   "execution_count": 14,
   "metadata": {
    "collapsed": false
   },
   "outputs": [],
   "source": [
    "#Su et al 2013 dust estimate 35 microns, 1 Jy, \n",
    "#about 1 Jy at 400 microns Ricci et al 2012\n",
    "\n",
    "dCount1 = dustCounterForMicrons(c/xList1*1e4, 35, 1, SEDList1_m)\n",
    "dCount2 = dustCounterForMicrons(c/xList2*1e4, 400, 1, SEDList2_m)"
   ]
  },
  {
   "cell_type": "code",
   "execution_count": null,
   "metadata": {
    "collapsed": true
   },
   "outputs": [],
   "source": []
  },
  {
   "cell_type": "code",
   "execution_count": 535,
   "metadata": {
    "collapsed": false
   },
   "outputs": [],
   "source": [
    "\n",
    "\n",
    "fig = plt.figure()\n",
    "sedPlotter(SEDList1_m, xList1, TList1, sizeList, dist,fig)\n",
    "plt.tight_layout()\n",
    "plt.show()"
   ]
  },
  {
   "cell_type": "code",
   "execution_count": 573,
   "metadata": {
    "collapsed": false
   },
   "outputs": [],
   "source": [
    "fig = plt.figure()\n",
    "sedPlotter(SEDList1_m, xList1, TList1, sizeList,dist,fig, dCount = dCount1)\n",
    "plt.tight_layout()\n",
    "plt.show()"
   ]
  },
  {
   "cell_type": "code",
   "execution_count": 574,
   "metadata": {
    "collapsed": false
   },
   "outputs": [],
   "source": [
    "fig = plt.figure()\n",
    "sedPlotter(SEDList2_m, xList2, TList2, sizeList, 130*AU,fig)\n",
    "plt.tight_layout()\n",
    "plt.show()"
   ]
  },
  {
   "cell_type": "code",
   "execution_count": 584,
   "metadata": {
    "collapsed": false
   },
   "outputs": [],
   "source": [
    "fig = plt.figure()\n",
    "sedPlotter(SEDList2_m, xList2, TList2, sizeList,130*AU,fig, dCount = dCount2)\n",
    "plt.tight_layout()\n",
    "plt.show()"
   ]
  },
  {
   "cell_type": "code",
   "execution_count": 15,
   "metadata": {
    "collapsed": false
   },
   "outputs": [],
   "source": [
    "def printerFunction(slist, dist, pinList, tList, dlist, density, poutList):\n",
    "    print(\"grain size (microns) | Dist (AU) | P_in (ergs) | T_eff (K) | Number to get equivalent flux | Dust Mass (g)| P_out (ergs)\")\n",
    "    count = 0\n",
    "    l = len(slist)\n",
    "    while count < l:\n",
    "        print(\"%20.1f | %9.0f | %11.2g | %9.0f | %29.3g | %13.3g | %10.2g\"%(slist[count]*1e4, dist/AU, pinList[count],tList[count],dlist[count], density*4/3*pi*slist[count]**3*dlist[count], poutList[count]))\n",
    "        count+=1"
   ]
  },
  {
   "cell_type": "code",
   "execution_count": 16,
   "metadata": {
    "collapsed": false
   },
   "outputs": [
    {
     "name": "stdout",
     "output_type": "stream",
     "text": [
      "grain size (microns) | Dist (AU) | P_in (ergs) | T_eff (K) | Number to get equivalent flux | Dust Mass (g)| P_out (ergs)\n",
      "                 0.1 |        10 |     1.7e-05 |       125 |                      1.22e+31 |      1.02e+17 |    3.7e-07\n",
      "                 1.0 |        10 |      0.0072 |       178 |                      6.99e+28 |      5.86e+17 |     0.0028\n",
      "                10.0 |        10 |        0.75 |       180 |                      6.86e+26 |      5.75e+18 |        1.1\n",
      "              1000.0 |        10 |     8.1e+03 |       184 |                      6.68e+22 |      5.59e+20 |    8.5e+03\n"
     ]
    }
   ],
   "source": [
    "printerFunction(sizeList, dist, Pin1, TList1, dCount1, 2, Pout1)"
   ]
  },
  {
   "cell_type": "code",
   "execution_count": 17,
   "metadata": {
    "collapsed": false
   },
   "outputs": [
    {
     "name": "stdout",
     "output_type": "stream",
     "text": [
      "grain size (microns) | Dist (AU) | P_in (ergs) | T_eff (K) | Number to get equivalent flux | Dust Mass (g)| P_out (ergs)\n",
      "                 0.1 |       130 |       1e-07 |        35 |                      2.91e+33 |      2.44e+19 |    7.7e-22\n",
      "                 1.0 |       130 |     4.2e-05 |        49 |                      1.91e+31 |       1.6e+20 |    1.7e-06\n",
      "                10.0 |       130 |      0.0045 |        50 |                      1.88e+29 |      1.58e+21 |     0.0049\n",
      "              1000.0 |       130 |          48 |        51 |                      1.84e+25 |      1.54e+23 |         51\n"
     ]
    }
   ],
   "source": [
    "printerFunction(sizeList, 130*AU, Pin2, TList2, dCount2, 2, Pout2)"
   ]
  },
  {
   "cell_type": "code",
   "execution_count": 18,
   "metadata": {
    "collapsed": false
   },
   "outputs": [],
   "source": [
    "#using the absorption formulation of PR drag \n",
    "def prrp(dist, mStar, pin, sizeList):#short for poynting-robertson radiation pressure, its a palindrome\n",
    "    #unit of force is dyne\n",
    "    print(\"grain size (microns) | Dist (AU) | Poynting-Robertson Drag (dyne) | Radiation Pressure (bayre)\")\n",
    "    count = 0\n",
    "    l = len(pin)\n",
    "    prList = [0]*l\n",
    "    rpList = [0]*l\n",
    "    while count < l:\n",
    "        prList[count] = pin[count]/c**2*(G*mStar/dist)\n",
    "        rpList[count] = pin[count]/c\n",
    "        print(\"%20.1f | %9.0f | %30.2g | %26.2g\"%(sizeList[count]*1e4, dist/AU, pin[count]/c**2*(G*mStar/dist), pin[count]/c))\n",
    "        count+=1\n",
    "    return prList, rpList"
   ]
  },
  {
   "cell_type": "code",
   "execution_count": 19,
   "metadata": {
    "collapsed": false
   },
   "outputs": [
    {
     "name": "stdout",
     "output_type": "stream",
     "text": [
      "grain size (microns) | Dist (AU) | Poynting-Robertson Drag (dyne) | Radiation Pressure (bayre)\n",
      "                 0.1 |        10 |                        3.3e-14 |                    5.8e-16\n",
      "                 1.0 |        10 |                        1.4e-11 |                    2.4e-13\n",
      "                10.0 |        10 |                        1.4e-09 |                    2.5e-11\n",
      "              1000.0 |        10 |                        1.6e-05 |                    2.7e-07\n"
     ]
    }
   ],
   "source": [
    "pr1, rp1 = prrp(dist, mStar, Pin1, sizeList)"
   ]
  },
  {
   "cell_type": "code",
   "execution_count": 20,
   "metadata": {
    "collapsed": false
   },
   "outputs": [
    {
     "name": "stdout",
     "output_type": "stream",
     "text": [
      "grain size (microns) | Dist (AU) | Poynting-Robertson Drag (dyne) | Radiation Pressure (bayre)\n",
      "                 0.1 |       130 |                        1.5e-17 |                    3.4e-18\n",
      "                 1.0 |       130 |                        6.2e-15 |                    1.4e-15\n",
      "                10.0 |       130 |                        6.5e-13 |                    1.5e-13\n",
      "              1000.0 |       130 |                        7.1e-09 |                    1.6e-09\n"
     ]
    }
   ],
   "source": [
    "pr2, rp2 = prrp(130*AU, mStar, Pin2, sizeList)"
   ]
  },
  {
   "cell_type": "code",
   "execution_count": 21,
   "metadata": {
    "collapsed": false
   },
   "outputs": [
    {
     "name": "stdout",
     "output_type": "stream",
     "text": [
      "                       1.1e-27\n",
      "                       4.4e-23\n",
      "                       4.7e-19\n",
      "                         5e-11\n"
     ]
    }
   ],
   "source": [
    "for i in range(len(rp2)):\n",
    "    print(\"%30.2g\"%(rp2[i]*sizeList[i]**2*pi))"
   ]
  },
  {
   "cell_type": "code",
   "execution_count": 22,
   "metadata": {
    "collapsed": false
   },
   "outputs": [
    {
     "name": "stdout",
     "output_type": "stream",
     "text": [
      "                         3e-17\n",
      "                         3e-14\n",
      "                         3e-11\n",
      "                         3e-05\n"
     ]
    }
   ],
   "source": [
    "for i in range(len(sizeList)):\n",
    "    print(\"%30.2g\"%(mStar*G*4/3*sizeList[i]**3*2/dist**2))"
   ]
  },
  {
   "cell_type": "code",
   "execution_count": 23,
   "metadata": {
    "collapsed": false
   },
   "outputs": [],
   "source": [
    "def betaprrp(sizeList, pr, rp, dist, mstar, density):\n",
    "    l = len(sizeList)\n",
    "    count = 0\n",
    "    bpr = [0]*l\n",
    "    brp = [0]*l\n",
    "    while count < l:\n",
    "        mdust = 4/3*pi*sizeList[count]**3*density\n",
    "        fgrav = G*mstar*mdust/dist**2\n",
    "        bpr[count] = pr[count]/fgrav\n",
    "        brp[count] = rp[count]*4*pi*sizeList[count]**2/fgrav #convert to force\n",
    "        count+=1\n",
    "    return bpr, brp\n",
    "    "
   ]
  },
  {
   "cell_type": "code",
   "execution_count": 24,
   "metadata": {
    "collapsed": false
   },
   "outputs": [],
   "source": [
    "betapr1, betarp1 = betaprrp(sizeList, pr1, rp1, dist, mStar, 2)\n",
    "betapr2, betarp2 = betaprrp(sizeList, pr2, rp2, 130*AU, mStar, 2)\n"
   ]
  },
  {
   "cell_type": "code",
   "execution_count": 30,
   "metadata": {
    "collapsed": false
   },
   "outputs": [],
   "source": [
    "def timescale(betapr, betarp, dist, mStar, rStar):\n",
    "    l = len(betapr)\n",
    "    count = 0\n",
    "    tscale = [0]*l\n",
    "    while count < l:\n",
    "        a_max = -G*mStar*(1-betarp[count]+betapr[count])/rStar**2\n",
    "        a_ave = a_max/2\n",
    "        tscale[count] = (2*dist/abs(a_ave))**(1/2)\n",
    "        print(betarp[count],betapr[count])\n",
    "        count+=1\n",
    "        \n",
    "    return tscale"
   ]
  },
  {
   "cell_type": "code",
   "execution_count": 32,
   "metadata": {
    "collapsed": true
   },
   "outputs": [],
   "source": [
    "def timescale2(sizeList, pr, rp, dist, mstar, rstar, density):\n",
    "    l = len(sizeList)\n",
    "    count = 0\n",
    "    tscale = [0]*l\n",
    "    while count < l:\n",
    "        mdust = 4/3*pi*sizeList[count]**3*density\n",
    "        tscale[count] = mdust/(pr[count]- rp[count])*(G*mstar*(1/rstar - 1/dist))**(1/2)\n",
    "        count+=1\n",
    "    return tscale\n",
    "        "
   ]
  },
  {
   "cell_type": "code",
   "execution_count": 31,
   "metadata": {
    "collapsed": false
   },
   "outputs": [
    {
     "name": "stdout",
     "output_type": "stream",
     "text": [
      "7.551515022259152e-09 343.5719817510043\n",
      "3.132796556041372e-07 142.5331364645622\n",
      "3.2995781023633798e-06 15.012121199913306\n",
      "0.0003562177983206022 0.16206874321674203\n",
      "7.551514583294343e-09 26.428612444567808\n",
      "3.132796392081147e-07 10.964086846526813\n",
      "3.2995782768835715e-06 1.1547786149176502\n",
      "0.00035621787934158125 0.01246682923684094\n"
     ]
    }
   ],
   "source": [
    "tscale1 = timescale(betapr1, betarp1, dist, mStar, rStar)\n",
    "tscale2 = timescale(betapr2, betarp2, 130*AU, mStar, rStar)\n"
   ]
  },
  {
   "cell_type": "code",
   "execution_count": 27,
   "metadata": {
    "collapsed": false
   },
   "outputs": [
    {
     "name": "stdout",
     "output_type": "stream",
     "text": [
      "[10941.686626722847, 16953.062595237076, 50757.457891818834, 188440.79018266825]\n",
      "[139827.9561865374, 211717.20696659418, 498878.66681861854, 727917.1299557134]\n"
     ]
    }
   ],
   "source": [
    "print(tscale1)\n",
    "print(tscale2)"
   ]
  },
  {
   "cell_type": "code",
   "execution_count": 33,
   "metadata": {
    "collapsed": false
   },
   "outputs": [],
   "source": [
    "tscale11 = timescale2(sizeList, pr1, rp1, dist, mStar, rStar, 2)\n",
    "tscale22 = timescale2(sizeList, pr2, rp2, 130*AU, mStar, rStar, 2)"
   ]
  },
  {
   "cell_type": "code",
   "execution_count": 36,
   "metadata": {
    "collapsed": false
   },
   "outputs": [
    {
     "name": "stdout",
     "output_type": "stream",
     "text": [
      "0.36254069785013704\n",
      "1013.2921621020536\n",
      "-------------------------------------\n",
      "0.8738938124520436\n",
      "2442.5112843571333\n",
      "-------------------------------------\n",
      "8.297216920050111\n",
      "23190.51071726254\n",
      "-------------------------------------\n",
      "768.5555126393826\n",
      "2148092.7777670682\n",
      "-------------------------------------\n"
     ]
    }
   ],
   "source": [
    "aaa = len(tscale11)\n",
    "bbb = 0\n",
    "while bbb < aaa :\n",
    "    print(tscale11[bbb]/(pi*1e7))\n",
    "    print(tscale22[bbb]/(pi*1e7))\n",
    "    print('-------------------------------------')\n",
    "    bbb+=1"
   ]
  },
  {
   "cell_type": "code",
   "execution_count": 124,
   "metadata": {
    "collapsed": true
   },
   "outputs": [],
   "source": []
  },
  {
   "cell_type": "code",
   "execution_count": null,
   "metadata": {
    "collapsed": false
   },
   "outputs": [],
   "source": []
  },
  {
   "cell_type": "code",
   "execution_count": null,
   "metadata": {
    "collapsed": true
   },
   "outputs": [],
   "source": []
  }
 ],
 "metadata": {
  "kernelspec": {
   "display_name": "Python 3",
   "language": "python",
   "name": "python3"
  },
  "language_info": {
   "codemirror_mode": {
    "name": "ipython",
    "version": 3
   },
   "file_extension": ".py",
   "mimetype": "text/x-python",
   "name": "python",
   "nbconvert_exporter": "python",
   "pygments_lexer": "ipython3",
   "version": "3.5.1"
  }
 },
 "nbformat": 4,
 "nbformat_minor": 0
}
