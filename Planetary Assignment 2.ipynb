{
 "cells": [
  {
   "cell_type": "code",
   "execution_count": 3,
   "metadata": {
    "collapsed": true
   },
   "outputs": [],
   "source": [
    "import numpy as np\n",
    "import math as m\n",
    "import matplotlib.pyplot as plt\n",
    "import scipy.ndimage as img\n",
    "import os \n",
    "import re\n",
    "from astropy.io import fits\n",
    "from skimage.transform import rotate, warp, SimilarityTransform\n",
    "from math import sqrt\n",
    "import math\n",
    "import bottleneck as savior"
   ]
  },
  {
   "cell_type": "code",
   "execution_count": 89,
   "metadata": {
    "collapsed": true
   },
   "outputs": [],
   "source": [
    "obj = \"KOA_4749\"#\"KOA_6004\"#\n",
    "cp = r\"C:\\Users\\Tyler\\Desktop\"\n",
    "#KOA_6004 = ROXs 12\n",
    "#KOA_4749 = ROXs 42b"
   ]
  },
  {
   "cell_type": "code",
   "execution_count": 90,
   "metadata": {
    "collapsed": false
   },
   "outputs": [],
   "source": [
    "#path = r\"C:\\Users\\Tyler\\Desktop\\{0}\\NIRC2\\raw\\sci\\{1}\".format(obj, \"N2.20110623.36186.jpg\")#this path is for KOA_6004\n",
    "path = r\"C:\\Users\\Tyler\\Desktop\\{0}\\NIRC2\\raw\\sci\\{1}\".format(\"KOA_4749\", \"N2.20110623.33237.jpg\")\n",
    "test = img.imread(path, mode = 'L')\n"
   ]
  },
  {
   "cell_type": "code",
   "execution_count": 72,
   "metadata": {
    "collapsed": false
   },
   "outputs": [],
   "source": [
    "plt.imshow(test,plt.cm.Greys_r)\n",
    "\n",
    "plt.show()"
   ]
  },
  {
   "cell_type": "code",
   "execution_count": 73,
   "metadata": {
    "collapsed": false
   },
   "outputs": [],
   "source": [
    "def simpleCentroid(array,startPointTL, boxSize):\n",
    "    x0,y0 = startPointTL\n",
    "    cx,cy = 0,0\n",
    "    totalFlux = 0\n",
    "    i = 0\n",
    "    while i < boxSize:\n",
    "        j = 0\n",
    "        while j < boxSize:\n",
    "            f = array[x0+i][y0+j]\n",
    "            cx+=i*f\n",
    "            cy+=j*f\n",
    "            totalFlux+=f\n",
    "            j+=1\n",
    "        i+=1\n",
    "    return cx/totalFlux+x0, cy/totalFlux+y0\n"
   ]
  },
  {
   "cell_type": "code",
   "execution_count": 91,
   "metadata": {
    "collapsed": false
   },
   "outputs": [
    {
     "name": "stdout",
     "output_type": "stream",
     "text": [
      "611.517605634 552.27758216\n"
     ]
    }
   ],
   "source": [
    "cx, cy = simpleCentroid(test, (606,546), 13)\n",
    "print(cx,cy)\n",
    "plt.imshow(test,cmap=plt.cm.Greys_r)\n",
    "plt.plot(cx,cy,'rh')\n",
    "plt.show()"
   ]
  },
  {
   "cell_type": "code",
   "execution_count": null,
   "metadata": {
    "collapsed": true
   },
   "outputs": [],
   "source": []
  },
  {
   "cell_type": "code",
   "execution_count": 92,
   "metadata": {
    "collapsed": false
   },
   "outputs": [],
   "source": [
    "#part 2\n",
    "folderPath = r\"C:\\Users\\Tyler\\Desktop\\{0}\\NIRC2\\raw\\sci{1}\".format(obj,\"\\\\\")\n",
    "\n",
    "\n",
    "def positionRecorder(starName, path, startPoint, boxSize):\n",
    "    inputs = list(filter(lambda s : s[-4:] == \".jpg\", os.listdir(path)))\n",
    "    output = [0]*len(inputs)\n",
    "    for i in range(len(inputs)):\n",
    "        image = img.imread(path+inputs[i], mode = 'L')\n",
    "        cx, cy = simpleCentroid(image, startPoint, boxSize)\n",
    "        output[i] = \"{0},{1},{2}\\n\".format(cx,cy, inputs[i])\n",
    "    with open('{0}_data.txt'.format(starName),'w') as f:\n",
    "        for j in output:\n",
    "            f.write(j)\n"
   ]
  },
  {
   "cell_type": "code",
   "execution_count": 93,
   "metadata": {
    "collapsed": true
   },
   "outputs": [],
   "source": [
    "\n",
    "positionRecorder(obj, folderPath, (606,546),13)"
   ]
  },
  {
   "cell_type": "code",
   "execution_count": 94,
   "metadata": {
    "collapsed": false
   },
   "outputs": [],
   "source": [
    "#part 3\n",
    "def shifter(starName, filePath, picturePath):\n",
    "    l = []\n",
    "    with open(r'{0}\\{1}_data.txt'.format(filePath,starName),'r') as f:\n",
    "        l = list(iter(f.readline, ''))\n",
    "    length = len(l)\n",
    "    l[0] = re.split(\",\",l[0][:-1])\n",
    "    x0, y0 = float(l[0][0]), float(l[0][1])\n",
    "    l[0][0],l[0][1] = 0,0\n",
    "    i = 1\n",
    "    while i < length:\n",
    "        l[i] = re.split(\",\",l[i][:-1])\n",
    "        l[i][0], l[i][1] = float(l[i][0])-x0, float(l[i][1])-y0\n",
    "        i+=1\n",
    "    imageList = [0]*length\n",
    "    nameList = [0]*length\n",
    "    i = 0\n",
    "    while i < length:\n",
    "        imageList[i] = img.shift(img.imread(picturePath+l[i][-1], mode = 'L'),l[i][:2])\n",
    "        nameList[i] = l[i][-1]\n",
    "        i+=1\n",
    "    return imageList, nameList, x0,y0\n",
    "    \n",
    "          \n",
    "output, names, cx,cy = shifter(obj,r\"C:\\Users\\Tyler\\Desktop\",folderPath)\n",
    "\n"
   ]
  },
  {
   "cell_type": "code",
   "execution_count": 95,
   "metadata": {
    "collapsed": false
   },
   "outputs": [],
   "source": [
    "outputStack = np.stack(output,axis=2)\n",
    "imageSum = np.sum(outputStack,axis=2)\n",
    "imageMedian = np.median(outputStack,axis=2)"
   ]
  },
  {
   "cell_type": "code",
   "execution_count": 13,
   "metadata": {
    "collapsed": false
   },
   "outputs": [
    {
     "name": "stdout",
     "output_type": "stream",
     "text": [
      "46\n"
     ]
    }
   ],
   "source": [
    "plt.imshow(outputStack[:,:,43])\n",
    "print(len(names))\n",
    "plt.show()\n"
   ]
  },
  {
   "cell_type": "code",
   "execution_count": 332,
   "metadata": {
    "collapsed": false
   },
   "outputs": [],
   "source": [
    "plt.imshow(imageSum)\n",
    "plt.show()"
   ]
  },
  {
   "cell_type": "code",
   "execution_count": 63,
   "metadata": {
    "collapsed": false
   },
   "outputs": [],
   "source": [
    "plt.imshow(imageMedian)\n",
    "plt.show()"
   ]
  },
  {
   "cell_type": "code",
   "execution_count": 160,
   "metadata": {
    "collapsed": false
   },
   "outputs": [],
   "source": [
    "#before this use 7za.exe to batch decompress all the fits files\n",
    "def rotateSystem(starName, filePath, picturePath):\n",
    "    imageStack, names, cx,cy = shifter(starName, filePath, picturePath)\n",
    "    cx, cy = int(cx), int(cy)\n",
    "    #embed the arrays ahead of rotation\n",
    "    size = np.shape(imageStack[0])[0]\n",
    "    numImages = len(imageStack)\n",
    "    middle = int(size*1.5)\n",
    "    i = 0\n",
    "    \n",
    "    imageList = [0]*numImages\n",
    "    while i < numImages:\n",
    "        fitsI = fits.open(picturePath+names[i][:-4]+\".fits\")\n",
    "        PA = fitsI[0].header['PARANG'] + fitsI[0].header['ROTPPOSN'] - \\\n",
    "        fitsI[0].header['EL'] - fitsI[0].header['INSTANGL']\n",
    "        fitsI.close()\n",
    "        #tempArray = rotate(imageStack[i], angle=PA,resize=True,cval=np.nan)#this is not an obvious package to use\n",
    "        imageList[i] = rotate(imageStack[i],center=(cx,cy), order=3, angle=PA,resize=False,cval=np.nan, preserve_range=True)#this is not an obvious package to use\n",
    "        i+=1\n",
    "    return np.stack(imageList, axis=2), cx, cy\n",
    "\n"
   ]
  },
  {
   "cell_type": "code",
   "execution_count": 161,
   "metadata": {
    "collapsed": false
   },
   "outputs": [
    {
     "name": "stderr",
     "output_type": "stream",
     "text": [
      "C:\\Anaconda2\\envs\\python3\\lib\\site-packages\\astropy\\io\\fits\\util.py:578: UserWarning: Could not find appropriate MS Visual C Runtime library or library is corrupt/misconfigured; cannot determine whether your file object was opened in append mode.  Please consider using a file object opened in write mode instead.\n",
      "  'Could not find appropriate MS Visual C Runtime '\n"
     ]
    }
   ],
   "source": [
    "output2, cx,cy = rotateSystem(obj,r\"C:\\Users\\Tyler\\Desktop\",folderPath)"
   ]
  },
  {
   "cell_type": "code",
   "execution_count": 27,
   "metadata": {
    "collapsed": false
   },
   "outputs": [],
   "source": [
    "#plt.imshow(savior.nanmedian(output2,axis=2))\n",
    "plt.imshow(savior.nanmedian(output2, axis=2), plt.cm.Greys_r)\n",
    "#plt.plot(cx,cy,'rh')\n",
    "plt.show()"
   ]
  },
  {
   "cell_type": "code",
   "execution_count": 120,
   "metadata": {
    "collapsed": false
   },
   "outputs": [],
   "source": [
    "plt.imshow(output2[:,:,1])\n",
    "plt.show()"
   ]
  },
  {
   "cell_type": "code",
   "execution_count": 16,
   "metadata": {
    "collapsed": false
   },
   "outputs": [],
   "source": [
    "ff = range(np.shape(output2[:,:,0])[0])\n",
    "whereMask = np.zeros(np.shape(output2)[:2])\n",
    "for i in ff:\n",
    "    whereMask[i,:] = list(map(lambda x: sqrt((x-cx)**2 + (i-cy)**2), ff))\n",
    "    "
   ]
  },
  {
   "cell_type": "code",
   "execution_count": 53,
   "metadata": {
    "collapsed": false
   },
   "outputs": [],
   "source": [
    "plt.imshow(whereMask)\n",
    "plt.show()\n",
    "#np.shape(whereMask)"
   ]
  },
  {
   "cell_type": "code",
   "execution_count": null,
   "metadata": {
    "collapsed": false
   },
   "outputs": [],
   "source": [
    "\n",
    "    "
   ]
  },
  {
   "cell_type": "code",
   "execution_count": 98,
   "metadata": {
    "collapsed": false
   },
   "outputs": [],
   "source": [
    "np.max(whereMask)#this also takes awhile\n",
    "\n",
    "#part 5, this takes a little while, the time is primarily based on the dr you use\n",
    "depth = np.shape(outputStack)[2]\n",
    "dc = 0\n",
    "step = 4\n",
    "upperLimit = int(np.max(whereMask))\n",
    "upperLimit -= upperLimit%step\n",
    "newOut = [0]*depth\n",
    "while dc < depth:\n",
    "    counter = 0\n",
    "    subtract = np.zeros(np.shape(outputStack[:,:,dc]))\n",
    "    #print(np.shape(subtract))\n",
    "    while upperLimit - counter > 0:\n",
    "        counter +=step\n",
    "        #print(dc)\n",
    "        firstWhere = np.where((whereMask > counter-step) & (whereMask<=counter), output2[:,:,dc], np.nan)\n",
    "        indices = np.where((whereMask > counter-step) & (whereMask<=counter))\n",
    "        #print(type(indices[0]),type(indices[1]))\n",
    "\n",
    "        gh = savior.nanmedian(firstWhere)\n",
    "        subtract[indices[0],indices[1]] = gh\n",
    "        \n",
    "    newOut[dc]=outputStack[:,:,dc]-subtract\n",
    "    dc+=1\n"
   ]
  },
  {
   "cell_type": "code",
   "execution_count": null,
   "metadata": {
    "collapsed": false
   },
   "outputs": [],
   "source": []
  },
  {
   "cell_type": "code",
   "execution_count": 67,
   "metadata": {
    "collapsed": false
   },
   "outputs": [],
   "source": [
    "plt.imshow(savior.nanmedian(np.stack(newOut,axis=2),axis=2))\n",
    "plt.show()"
   ]
  },
  {
   "cell_type": "code",
   "execution_count": 99,
   "metadata": {
    "collapsed": false
   },
   "outputs": [],
   "source": [
    "#part 6\n",
    "def rsImproved(starName, filePath, picturePath, whereMask):\n",
    "    imageStack, names, cx,cy = shifter(starName, filePath, picturePath)\n",
    "    \n",
    "    \n",
    "    upLimit = np.max(whereMask)\n",
    "    medianList = [0]*(int(math.log(upLimit,2))+1)\n",
    "    testList = [0]*(int(math.log(upLimit,2))+1)\n",
    "    medianImg = np.median(np.stack(imageStack,axis=2),axis=2)\n",
    "    counter = 1\n",
    "    while counter < upLimit:\n",
    "        counter*=2\n",
    "        val = savior.nanmedian(np.where((whereMask > counter/2) & (whereMask<counter), medianImg, np.nan))\n",
    "        medianList[int(math.log(counter,2))-1]  = val if val else 1\n",
    "    \n",
    "    #print(medianList)\n",
    "    cx, cy = int(cx), int(cy)\n",
    "    #embed the arrays ahead of rotation\n",
    "    size = np.shape(imageStack[0])[0]\n",
    "    numImages = len(imageStack)\n",
    "    i = 0\n",
    "    imageList = [0]*numImages\n",
    "    while i < numImages:\n",
    "        fitsI = fits.open(folderPath+names[i][:-4]+\".fits\")\n",
    "        PA = fitsI[0].header['PARANG'] + fitsI[0].header['ROTPPOSN'] - \\\n",
    "        fitsI[0].header['EL'] - fitsI[0].header['INSTANGL']\n",
    "        fitsI.close()\n",
    "        #quick median calc\n",
    "        counter = 1\n",
    "        while counter < upLimit:\n",
    "            counter*=2\n",
    "            val = savior.nanmedian(np.where((whereMask > counter/2) & (whereMask<counter), imageStack[i], np.nan))\n",
    "            testList[int(math.log(counter,2))-1] = val if val else 1\n",
    "        \n",
    "        ratios = [testList[j]/medianList[j] for j in range(len(testList))]\n",
    "        medianScaleFactor = np.median(ratios)\n",
    "        #meanScaleFactor = np.mean(ratios)\n",
    "        imageList[i] = rotate(imageStack[i]-medianScaleFactor*medianImg,center=(cx,cy), order=3, angle=PA,resize=False,cval=np.nan, preserve_range=True)#this is not an obvious package to use\n",
    "        i+=1\n",
    "    return np.stack(imageList, axis=2), cx, cy"
   ]
  },
  {
   "cell_type": "code",
   "execution_count": 100,
   "metadata": {
    "collapsed": false
   },
   "outputs": [
    {
     "name": "stderr",
     "output_type": "stream",
     "text": [
      "C:\\Anaconda2\\envs\\python3\\lib\\site-packages\\astropy\\io\\fits\\util.py:578: UserWarning: Could not find appropriate MS Visual C Runtime library or library is corrupt/misconfigured; cannot determine whether your file object was opened in append mode.  Please consider using a file object opened in write mode instead.\n",
      "  'Could not find appropriate MS Visual C Runtime '\n"
     ]
    }
   ],
   "source": [
    "output6, cx,cy = rsImproved(obj,r\"C:\\Users\\Tyler\\Desktop\",folderPath, whereMask)"
   ]
  },
  {
   "cell_type": "code",
   "execution_count": 21,
   "metadata": {
    "collapsed": true
   },
   "outputs": [],
   "source": []
  },
  {
   "cell_type": "code",
   "execution_count": 70,
   "metadata": {
    "collapsed": false
   },
   "outputs": [],
   "source": [
    "plt.imshow(output6[:,:,6])\n",
    "plt.show()"
   ]
  },
  {
   "cell_type": "code",
   "execution_count": 68,
   "metadata": {
    "collapsed": false
   },
   "outputs": [],
   "source": [
    "plt.imshow(savior.nanmedian(output6,axis=2), plt.cm.Greys_r)\n",
    "\n",
    "plt.show()"
   ]
  },
  {
   "cell_type": "code",
   "execution_count": 101,
   "metadata": {
    "collapsed": false
   },
   "outputs": [],
   "source": [
    "#part 7\n",
    "def part7(obj, objList, commonPath, whereMask):#this assumes the obj is not part of the obj list\n",
    "    imageStack, names, cx, cy = shifter(obj, commonPath,r\"{0}\\{1}\\NIRC2\\raw\\sci\\\\\".format(commonPath,obj))\n",
    "    upLimit = np.max(whereMask)\n",
    "    k = 0\n",
    "    l0 = len(imageStack)\n",
    "    nameList = [0]*l0\n",
    "    best_cal = 0\n",
    "    returnList = [0]*l0\n",
    "    sciImageList = [0]*(int(math.log(upLimit,2))+1)\n",
    "    calImageList = [0]*(int(math.log(upLimit,2))+1)\n",
    "    while k < l0:\n",
    "        i = 0\n",
    "        l1 = len(objList)\n",
    "        nameOfBest, chiBest = 0,1e10 \n",
    "        counter = 1\n",
    "        while counter < upLimit:\n",
    "            counter*=2\n",
    "            val = savior.nanmedian(np.where((whereMask > counter/2) & (whereMask<counter), imageStack[k], np.nan))\n",
    "            sciImageList[int(math.log(counter,2))-1]  = val if val else 1\n",
    "        while i < l1:\n",
    "            psfComp, psfnames, ta1, ta2 = shifter(objList[i], commonPath, r\"{0}\\{1}\\NIRC2\\raw\\sci\\\\\".format(commonPath,objList[i]))\n",
    "            j = 0\n",
    "            l2 = len(psfComp)\n",
    "            while j < l2:\n",
    "                counter = 1\n",
    "                while counter < upLimit:\n",
    "                    counter*=2\n",
    "                    val = savior.nanmedian(np.where((whereMask > counter/2) & (whereMask<counter), imageStack[i], np.nan))\n",
    "                    calImageList[int(math.log(counter,2))-1] = val if val else 1\n",
    "                scaleFactor = np.median([sciImageList[g]/calImageList[g] for g in range(len(sciImageList))])\n",
    "                temp = imageStack[k] - scaleFactor*psfComp[j]\n",
    "                chiTest = savior.ss(temp)\n",
    "                if chiTest < chiBest:\n",
    "                    chiBest = chiTest\n",
    "                    nameOfBest = psfnames[j]\n",
    "                    best_cal = temp\n",
    "                j+=1\n",
    "            i+=1\n",
    "        nameList[k] = nameOfBest\n",
    "        returnList[k] = best_cal\n",
    "        k+=1\n",
    "    with open(r'{0}_psfCal.txt'.format(obj),'w') as f:\n",
    "        for i in range(len(names)):\n",
    "            f.write(\"{0}, {1}\\n\".format(names[i],nameList[i]))\n",
    "    return returnList\n",
    "    "
   ]
  },
  {
   "cell_type": "code",
   "execution_count": 102,
   "metadata": {
    "collapsed": false
   },
   "outputs": [],
   "source": [
    "returnList = part7(obj,[\"KOA_6004\"], cp, whereMask)#this takes awhile ~ 5 mins"
   ]
  },
  {
   "cell_type": "code",
   "execution_count": 105,
   "metadata": {
    "collapsed": false
   },
   "outputs": [],
   "source": [
    "plt.imshow(savior.nansum(np.stack(returnList, axis=2),axis=2))\n",
    "\n",
    "plt.show()"
   ]
  },
  {
   "cell_type": "code",
   "execution_count": 218,
   "metadata": {
    "collapsed": false
   },
   "outputs": [],
   "source": []
  },
  {
   "cell_type": "code",
   "execution_count": 103,
   "metadata": {
    "collapsed": false
   },
   "outputs": [],
   "source": [
    "#save all those images\n",
    "plt.imsave(r\"{0}\\\\{1}_part3sum.png\".format(cp,obj), np.sum(np.stack(output,axis=2),axis=2),cmap = plt.cm.Greys)\n",
    "plt.imsave(r\"{0}\\\\{1}_part3median.png\".format(cp,obj), np.median(np.stack(output,axis=2),axis=2),cmap = plt.cm.Greys)\n",
    "plt.imsave(r\"{0}\\\\{1}_part4median.png\".format(cp,obj), savior.nanmedian(output2, axis=2),cmap = plt.cm.Greys)\n",
    "plt.imsave(r\"{0}\\\\{1}_part4sum.png\".format(cp,obj), savior.nansum(output2, axis=2),cmap = plt.cm.Greys)\n",
    "plt.imsave(r\"{0}\\\\{1}_part5sum.png\".format(cp,obj), savior.nansum(np.stack(newOut,axis=2),axis=2),cmap = plt.cm.Greys)\n",
    "plt.imsave(r\"{0}\\\\{1}_part5median.png\".format(cp,obj), savior.nanmedian(np.stack(newOut,axis=2),axis=2),cmap=plt.cm.Greys)\n",
    "plt.imsave(r\"{0}\\\\{1}_part6median.png\".format(cp,obj), savior.nanmedian(output6,axis=2),cmap=plt.cm.Greys)\n",
    "plt.imsave(r\"{0}\\\\{1}_part6sum.png\".format(cp,obj), savior.nansum(output6,axis=2),cmap=plt.cm.Greys)\n",
    "plt.imsave(r\"{0}\\\\{1}_part7sum.png\".format(cp,obj), savior.nansum(np.stack(returnList, axis=2),axis=2),cmap=plt.cm.Greys)\n",
    "plt.imsave(r\"{0}\\\\{1}_part7median.png\".format(cp,obj), savior.nanmedian(np.stack(returnList, axis=2),axis=2),cmap=plt.cm.Greys)\n",
    "plt.imsave(r\"{0}\\\\{1}_whereMask.png\".format(cp,obj), whereMask)"
   ]
  },
  {
   "cell_type": "code",
   "execution_count": 169,
   "metadata": {
    "collapsed": false
   },
   "outputs": [
    {
     "name": "stderr",
     "output_type": "stream",
     "text": [
      "C:\\Anaconda2\\envs\\python3\\lib\\site-packages\\astropy\\io\\fits\\util.py:578: UserWarning: Could not find appropriate MS Visual C Runtime library or library is corrupt/misconfigured; cannot determine whether your file object was opened in append mode.  Please consider using a file object opened in write mode instead.\n",
      "  'Could not find appropriate MS Visual C Runtime '\n"
     ]
    }
   ],
   "source": [
    "#part 8, assuming the same file naming as above\n",
    "def meanPA(starName, filePath, picturePath):\n",
    "    imageStack, names, cx,cy = shifter(starName, filePath, picturePath)\n",
    "    numImages = len(imageStack)\n",
    "    i = 0\n",
    "    palist = [0]*numImages\n",
    "    while i < numImages:\n",
    "        fitsI = fits.open(picturePath+names[i][:-4]+\".fits\")\n",
    "        PA = fitsI[0].header['PARANG'] + fitsI[0].header['ROTPPOSN'] - \\\n",
    "        fitsI[0].header['EL'] - fitsI[0].header['INSTANGL']\n",
    "        fitsI.close()\n",
    "        \n",
    "        palist[i] = PA#this is not an obvious package to use\n",
    "        i+=1\n",
    "    return np.mean(palist)\n",
    "\n",
    "\n",
    "\n",
    "obj = \"KOA_6004\"\n",
    "guess ={\"KOA_6004\":[(662,382)], \"KOA_4749\":[(637,602),(721,594)]}\n",
    "scale = 0.01#arcsec\n",
    "index = 3\n",
    "leng = len(guess[obj])\n",
    "posAngleList = [[0]*5 for i in range(leng)]\n",
    "projDist = [[0]*5 for i in range(leng)]\n",
    "avgPA = meanPA(obj, cp, r\"C:\\Users\\Tyler\\Desktop\\{0}\\NIRC2\\raw\\sci{1}\".format(obj,\"\\\\\"))\n",
    "while index < 8:\n",
    "    medianStack = plt.imread(r\"{0}\\\\{1}_part{2}median.png\".format(cp,obj,index))\n",
    "    count=0\n",
    "    while count < leng:\n",
    "        x0,y0 = guess[obj][count]\n",
    "        x0,y0 = x0-5, y0-5\n",
    "        x,y = simpleCentroid(medianStack, (x0,y0),13)\n",
    "        posAngleList[count][index-3] = 90-np.arctan2((cy-y),(cx-x))*180/np.pi + avgPA\n",
    "        projDist[count][index-3] = scale*np.sqrt((cy-y)**2 + (cx-x)**2)\n",
    "        count+=1 \n",
    "    index+=1\n"
   ]
  },
  {
   "cell_type": "code",
   "execution_count": 170,
   "metadata": {
    "collapsed": false
   },
   "outputs": [
    {
     "name": "stdout",
     "output_type": "stream",
     "text": [
      "[[array([ 10.53779984,  10.53779984,  10.53779984,  10.53779984], dtype=float32), array([ 10.53786087,  10.53786087,  10.53786087,  10.53779984], dtype=float32), array([ 10.53779984,  10.53779984,  10.53779984,  10.53779984], dtype=float32), array([ 10.53779984,  10.53779984,  10.53779984,  10.53779984], dtype=float32), array([ 10.53779984,  10.53779984,  10.53779984,  10.53779984], dtype=float32)]] \n",
      " [[array([ 1.76819122,  1.76819122,  1.76819122,  1.76819122], dtype=float32), array([ 1.76814187,  1.76814187,  1.76814187,  1.76819122], dtype=float32), array([ 1.76819122,  1.76819122,  1.76819122,  1.76819122], dtype=float32), array([ 1.76819122,  1.76819122,  1.76819122,  1.76819122], dtype=float32), array([ 1.76819122,  1.76819122,  1.76819122,  1.76819122], dtype=float32)]] KOA_6004\n"
     ]
    }
   ],
   "source": [
    "print(posAngleList,\"\\n\", projDist, obj)"
   ]
  },
  {
   "cell_type": "code",
   "execution_count": 106,
   "metadata": {
    "collapsed": false
   },
   "outputs": [
    {
     "data": {
      "text/plain": [
       "[(637, 602), (721, 594)]"
      ]
     },
     "execution_count": 106,
     "metadata": {},
     "output_type": "execute_result"
    }
   ],
   "source": [
    "guess ={\"KOA_6004\":[(662,382)], \"KOA_4749\":[(637,602),(721,594)]}\n",
    "guess[\"KOA_4749\"]"
   ]
  },
  {
   "cell_type": "code",
   "execution_count": 108,
   "metadata": {
    "collapsed": false
   },
   "outputs": [],
   "source": [
    "projDist = [[0]*4 for i in range(5)]"
   ]
  },
  {
   "cell_type": "code",
   "execution_count": 163,
   "metadata": {
    "collapsed": false
   },
   "outputs": [
    {
     "data": {
      "text/plain": [
       "16.008950434782609"
      ]
     },
     "execution_count": 163,
     "metadata": {},
     "output_type": "execute_result"
    }
   ],
   "source": [
    "def meanPA(starName, filePath, picturePath):\n",
    "    imageStack, names, cx,cy = shifter(starName, filePath, picturePath)\n",
    "    numImages = len(imageStack)\n",
    "    i = 0\n",
    "    \n",
    "    palist = [0]*numImages\n",
    "    while i < numImages:\n",
    "        fitsI = fits.open(picturePath+names[i][:-4]+\".fits\")\n",
    "        PA = fitsI[0].header['PARANG'] + fitsI[0].header['ROTPPOSN'] - \\\n",
    "        fitsI[0].header['EL'] - fitsI[0].header['INSTANGL']\n",
    "        fitsI.close()\n",
    "        \n",
    "        palist[i] = PA#this is not an obvious package to use\n",
    "        i+=1\n",
    "    return np.mean(palist)"
   ]
  },
  {
   "cell_type": "code",
   "execution_count": null,
   "metadata": {
    "collapsed": true
   },
   "outputs": [],
   "source": []
  }
 ],
 "metadata": {
  "kernelspec": {
   "display_name": "Python 3",
   "language": "python",
   "name": "python3"
  }
 },
 "nbformat": 4,
 "nbformat_minor": 0
}
